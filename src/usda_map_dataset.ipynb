{
 "cells": [
  {
   "cell_type": "markdown",
   "id": "cbd13ec9",
   "metadata": {},
   "source": [
    "# Import Packages"
   ]
  },
  {
   "cell_type": "code",
   "execution_count": 1,
   "id": "bc25c69c",
   "metadata": {},
   "outputs": [],
   "source": [
    "import pandas as pd\n",
    "\n",
    "from constants import USDA_FULL_DATASET_PATH, MWPD_FULL_DATASET_PATH, GPC_PATH"
   ]
  },
  {
   "cell_type": "code",
   "execution_count": 2,
   "id": "e809a719",
   "metadata": {},
   "outputs": [],
   "source": [
    "df_gpc = pd.read_csv(GPC_PATH)"
   ]
  },
  {
   "cell_type": "markdown",
   "id": "088945ff",
   "metadata": {},
   "source": [
    "# Mapping USDA Dataset"
   ]
  },
  {
   "cell_type": "code",
   "execution_count": null,
   "id": "9973aebf",
   "metadata": {},
   "outputs": [
    {
     "data": {
      "text/plain": [
       "\"\\nwhich category it belongs to 'Confectionery Products' 'Confectionery/Sugar Sweetening Products Variety Packs' 'Sugars/Sugar Substitute Products'\\n\""
      ]
     },
     "execution_count": 3,
     "metadata": {},
     "output_type": "execute_result"
    }
   ],
   "source": [
    "# Labelled correctly\n",
    "# Vegetables - Prepared/Processed\n",
    "# Non Alcoholic Beverages - Ready to Drink\n",
    "# Pasta/Noodles\n",
    "# Nuts/Seeds - Prepared/Processed\n",
    "# Coffee/Coffee Substitutes\n",
    "\n",
    "# Mapping\n",
    "# `Breakfast Cereals` to `Processed Cereal Products`\n",
    "# `Oils/Fats Edible` to `Oils Edible`\n",
    "\n",
    "# Need to be mapped manually\n",
    "# Prepared/Preserved Foods - Liquid/Sauce/Soup (Done)\n",
    "# Confectionery/Sugar Sweetening Products (Done)\n",
    "# Milk/Butter/Cream/Yogurts/Cheese/Eggs/Substitutes (Done)\n",
    "# Seasonings/Preservatives/Extracts (Done)\n",
    "# Bread/Bakery Products (Done)\n",
    "\n",
    "\"\"\"\n",
    "which category it belongs to 'Confectionery Products' 'Confectionery/Sugar Sweetening Products Variety Packs' 'Sugars/Sugar Substitute Products'\n",
    "\"\"\""
   ]
  },
  {
   "cell_type": "code",
   "execution_count": 4,
   "id": "986b8f76",
   "metadata": {},
   "outputs": [],
   "source": [
    "df_usda = pd.read_csv(USDA_FULL_DATASET_PATH)"
   ]
  },
  {
   "cell_type": "code",
   "execution_count": 5,
   "id": "808f8784",
   "metadata": {},
   "outputs": [],
   "source": [
    "classes = df_usda[\"class\"].unique().tolist()\n",
    "true_classes = df_gpc[\"ClassTitle\"].unique().tolist()\n",
    "correct_classes = []\n",
    "incorrect_classes = []\n",
    "for cls in classes:\n",
    "    if cls in true_classes:\n",
    "        correct_classes.append(cls)\n",
    "    else:\n",
    "        incorrect_classes.append(cls)"
   ]
  },
  {
   "cell_type": "code",
   "execution_count": 6,
   "id": "c198eb97",
   "metadata": {},
   "outputs": [
    {
     "data": {
      "text/plain": [
       "['Oils/Fats Edible',\n",
       " 'Prepared/Preserved Foods - Liquid/Sauce/Soup',\n",
       " 'Bread/Bakery Products',\n",
       " 'Confectionery/Sugar Sweetening Products',\n",
       " 'Milk/Butter/Cream/Yogurts/Cheese/Eggs/Substitutes',\n",
       " 'Breakfast Cereals',\n",
       " 'Seasonings/Preservatives/Extracts']"
      ]
     },
     "execution_count": 6,
     "metadata": {},
     "output_type": "execute_result"
    }
   ],
   "source": [
    "incorrect_classes"
   ]
  },
  {
   "cell_type": "markdown",
   "id": "377395cb",
   "metadata": {},
   "source": [
    "# Map MWPD Dataset"
   ]
  },
  {
   "cell_type": "code",
   "execution_count": 8,
   "id": "a47be6d7",
   "metadata": {},
   "outputs": [],
   "source": [
    "df_mwpd = pd.read_csv(MWPD_FULL_DATASET_PATH)"
   ]
  },
  {
   "cell_type": "code",
   "execution_count": 9,
   "id": "39582edd",
   "metadata": {},
   "outputs": [],
   "source": [
    "df_mwpd[\"SegmentTitle\"] = df_mwpd[\"SegmentTitle\"].apply(lambda x: x.split(\"_\")[1])\n",
    "df_mwpd[\"FamilyTitle\"] = df_mwpd[\"FamilyTitle\"].apply(lambda x: x.split(\"_\")[1])\n",
    "df_mwpd[\"ClassTitle\"] = df_mwpd[\"ClassTitle\"].apply(lambda x: x.split(\"_\")[1])"
   ]
  },
  {
   "cell_type": "code",
   "execution_count": 10,
   "id": "cd25d536",
   "metadata": {},
   "outputs": [
    {
     "data": {
      "text/plain": [
       "['Jewellery',\n",
       " 'Computer/Video Game Peripherals',\n",
       " 'Upper Body Wear/Tops',\n",
       " 'Automotive Maintenance/Repair',\n",
       " 'Electronic Communication Components',\n",
       " 'Medical Devices',\n",
       " 'Ornaments',\n",
       " 'Racquet Sports Equipment',\n",
       " 'Pictures/Mirrors/Frames',\n",
       " 'Cycle Sports Equipment',\n",
       " 'Lawn/Garden Pools/Ponds/Water Features and Ornaments',\n",
       " 'Household/Office Seating',\n",
       " 'Sports Balls/Pucks/Shuttlecocks/Frisbees/Boomerangs',\n",
       " 'Sensory Organs Care/Treatments',\n",
       " 'Stationery Adhesives/Binders/Fasteners',\n",
       " 'Indoor Footwear',\n",
       " 'Protective Wear',\n",
       " 'Full Body Wear',\n",
       " 'Watercraft Sports Equipment (Non Powered)',\n",
       " 'Clothing Accessories',\n",
       " 'Photography',\n",
       " 'Pre-Recorded or Digital Content Media',\n",
       " 'Hammers/Mallets/Hatchets/Anvils',\n",
       " 'Dietary Aids',\n",
       " 'Water/Beverage Equipment',\n",
       " 'Postal/Packaging Equipment/Aids/Accessories',\n",
       " 'Automotive Exterior Appearance Accessories',\n",
       " 'Automotive Lights/Bulbs',\n",
       " 'Body Washing',\n",
       " 'Sportswear',\n",
       " 'Display Stands',\n",
       " 'Air Conditioning/Cooling/Ventilation Equipment',\n",
       " 'Sleepwear',\n",
       " 'Household/Office Storage/Display Furniture/Screens',\n",
       " 'Athletic Footwear',\n",
       " 'Baby Care Variety Packs',\n",
       " 'Skin Care',\n",
       " 'Pet Welfare/Hygiene',\n",
       " 'Trekking/Mountaineering Sports Equipment',\n",
       " 'Automotive Exterior Accessories � Coverings/Protection',\n",
       " 'Food/Beverage Preparation Appliances',\n",
       " 'Board Games/Cards/Puzzles',\n",
       " 'Vegetables � Prepared/Processed',\n",
       " 'Tableware � Serving/Eating/Drinking Equipment',\n",
       " 'Tobacco Products/Smoking Accessories',\n",
       " 'Books',\n",
       " 'Storage/Haulage Boxes/Crates/Trays (Empty)',\n",
       " 'Computer Components',\n",
       " 'Flooring',\n",
       " 'Pet Accessories',\n",
       " 'Watches',\n",
       " 'Cleaning Appliances',\n",
       " 'General Purpose Footwear',\n",
       " 'Power Tools � Hand-held Portable',\n",
       " 'Personal Carriers/Accessories',\n",
       " 'Automotive Tyres/Wheels',\n",
       " 'Optics',\n",
       " 'Communication Accessories',\n",
       " 'Cars',\n",
       " 'Household/Office Furniture Accessories',\n",
       " 'Bathroom Fittings',\n",
       " 'Computer/Video Game Software',\n",
       " 'Sugars/Sugar Substitute Products',\n",
       " 'Alcoholic Beverages',\n",
       " 'Clothing Variety Packs',\n",
       " 'Building Products Variety Packs',\n",
       " 'Insect/Pest/Allergen Control',\n",
       " 'Motorcycles',\n",
       " 'Household/Office Tables/Desks',\n",
       " 'Door Hardware',\n",
       " 'Audio Visual Equipment Variety Packs',\n",
       " 'Vertebrates',\n",
       " 'Needlework/Toy Making Craft Supplies',\n",
       " 'Hair Removal/Masking Products',\n",
       " 'Computer Drives',\n",
       " 'Swimming/Surfing/Diving Sports Equipment',\n",
       " 'Insulation',\n",
       " 'Electric Lamps/Light Bulbs/Lighting',\n",
       " 'Electrical Distribution',\n",
       " 'Confectionery Products',\n",
       " 'Mobile Communication Devices/Services',\n",
       " 'Computers',\n",
       " 'Automotive Cargo Management',\n",
       " 'Vitamins/Minerals/Nutritional Supplements',\n",
       " 'Lawn/Garden Equipment',\n",
       " 'Lower Body Wear/Bottoms',\n",
       " 'Protective Personal Aids � DIY',\n",
       " 'Water Storage/Treatment',\n",
       " 'Stationery Cutters/Trimmers',\n",
       " 'Fabric/Textile Furnishings Variety Packs',\n",
       " 'Toy Vehicles � Non-ride',\n",
       " 'Chisels/Gouges',\n",
       " 'Home Audio Equipment',\n",
       " 'Decorative Banners/Flags',\n",
       " 'Home/Business Surveillance Equipment',\n",
       " 'Plumbing/Heating Ventilation/Air Conditioning Variety Packs',\n",
       " 'Clocks',\n",
       " 'Oils Edible',\n",
       " 'Cleaners',\n",
       " 'Portable Audio/Video',\n",
       " 'Mouldings/Millwork/Stair Parts',\n",
       " 'Food/Beverage Presentation Accessories',\n",
       " 'Snow/Ice Sports Equipment',\n",
       " 'Computer/Video Game Accessories',\n",
       " 'Fancy Dress Costumes/Accessories',\n",
       " 'Fruit � Prepared/Processed',\n",
       " 'Power Tools � Lifting/Handling Equipment',\n",
       " 'Cosmetic Products',\n",
       " 'Pet Food',\n",
       " 'Writing/Design Implements/Aids',\n",
       " 'Outdoor Games/Play Structures',\n",
       " 'Awls/Punches/Nailsets',\n",
       " 'Underwear',\n",
       " 'Arts/Crafts Variety Packs',\n",
       " 'Signage',\n",
       " 'Automotive Filters',\n",
       " 'Disposable Food Containers',\n",
       " 'Household/Office Fabric/Textile Furnishings',\n",
       " 'Automotive Electrical',\n",
       " 'Stationery Paper/Card/Film',\n",
       " 'Combat Sports Equipment',\n",
       " 'Food Preparation Equipment',\n",
       " 'Organizational Planning Stationery',\n",
       " 'Candle/Soap Craft Supplies',\n",
       " 'Audio Visual Accessories',\n",
       " 'Knives � Non Powered',\n",
       " 'Lawn/Garden Furniture/Furnishings',\n",
       " 'Household Beds/Mattresses',\n",
       " 'Paper/Card Making Craft Supplies',\n",
       " 'Fishing/Angling Sports Equipment',\n",
       " 'Gift Wrap/Accessories',\n",
       " 'Ready-Made Combination Meals',\n",
       " 'Personal Aids',\n",
       " 'Waste Disposing/Compacting Appliances',\n",
       " 'Hair Care Products',\n",
       " 'Automotive Brakes',\n",
       " 'Personal Fitness Sports Equipment',\n",
       " 'Computer Networking Equipment',\n",
       " 'Heating Equipment',\n",
       " 'Cookware/Bakeware',\n",
       " 'Doors',\n",
       " 'Confectionery/Sugar Sweetening Products Variety Packs',\n",
       " 'Safety/Protective Footwear',\n",
       " 'Greeting Cards/Invitations',\n",
       " 'Coffee/Tea/Substitutes',\n",
       " 'Lumber/Wood Panel/Gypsum',\n",
       " 'Personal Hygiene Products Variety Packs',\n",
       " 'Televisions',\n",
       " 'Scooter/Skateboard Sports Equipment',\n",
       " 'Toys � Ride-on',\n",
       " 'Seeds/Spores',\n",
       " 'Musical Instruments (Non Powered)',\n",
       " 'Maps',\n",
       " 'Platform Handling Supports/Converters',\n",
       " 'Textual/Printed/Reference Materials Variety Packs',\n",
       " 'Bedding',\n",
       " 'Sports Equipment Accessories',\n",
       " 'Major Water Dispensers',\n",
       " 'Dolls/Puppets/Action Figures/Soft Toys',\n",
       " 'Seasonings/Preservatives/Extracts Variety Packs',\n",
       " 'Major Cooking Appliances',\n",
       " 'Sporting Firearms Equipment',\n",
       " 'Camping Furniture/Furnishings',\n",
       " 'Baby Hygiene/Grooming',\n",
       " 'Alarm Systems',\n",
       " 'Sports Personal Protective Equipment',\n",
       " 'Musical Instrument Accessories',\n",
       " 'Abrasives',\n",
       " 'Pet Nutritional Supplements',\n",
       " 'Artists Painting/Drawing Supplies',\n",
       " 'Baby Furniture/Transportation/Safety',\n",
       " 'Video Recording/Playback',\n",
       " 'Sweet Bakery Products',\n",
       " 'Body Massage/Toning',\n",
       " 'Musical Instruments (Powered)',\n",
       " 'Window Parts/Accessories',\n",
       " 'Pain Relief Products',\n",
       " 'Lawn/Garden Animal Repellents/Deterrents',\n",
       " 'Sexual Toys/Aids',\n",
       " 'Lawn/Garden Lighting',\n",
       " 'Automotive Interior Accessories � Interior Flooring',\n",
       " 'Water/Gas Supply',\n",
       " 'Batteries/Chargers',\n",
       " 'Cleaning Variety Packs',\n",
       " 'Energy/Stimulant Products',\n",
       " 'Automotive Tyres/Wheels Accessories',\n",
       " 'Habit Treatment',\n",
       " 'Camping Cooking/Drinking/Eating Equipment',\n",
       " 'Automotive Safety',\n",
       " 'Fixings/Fasteners Hardware',\n",
       " 'Lawn/Garden Waste Disposal',\n",
       " 'Pliers/Pincers/Metal Cutting Tools',\n",
       " 'Laundry',\n",
       " 'Electrical Connection',\n",
       " 'General Personal Hygiene',\n",
       " 'Sports Bats/Sticks/Clubs/Cues/Mallets',\n",
       " 'Baking/Cooking Mixes/Supplies',\n",
       " 'Nailers/Staplers/Riveting Tools',\n",
       " 'Cheese/Cheese Substitutes',\n",
       " 'Workshop Aids',\n",
       " 'Nail Cosmetic/Care Products',\n",
       " 'Electrical Cables',\n",
       " 'Video Game Consoles',\n",
       " 'Waste Storage Products',\n",
       " 'Invertebrates',\n",
       " 'Small Cooking/Heating Appliances',\n",
       " 'Hunting Sports Aids',\n",
       " 'Fuel Pumps',\n",
       " 'Sleeping/Stress Relieving Products',\n",
       " 'Automotive Trailers/Trailer Accessories',\n",
       " 'Role Play Toys',\n",
       " 'Refrigerating/Freezing Appliances',\n",
       " 'Stationery Storage/Filing',\n",
       " 'Automotive Winches/Winch Accessories',\n",
       " 'Diagnostic Tests',\n",
       " 'Pharmaceutical Drugs',\n",
       " 'Camping Heating/Lighting Equipment',\n",
       " 'Respiratory/Allergy Products',\n",
       " 'Lawn/Garden Fencing',\n",
       " 'Surface Care',\n",
       " 'Plants Variety Packs',\n",
       " 'Track/Field Sports Equipment',\n",
       " 'Skin/Scalp Aid Products',\n",
       " 'Baby Feeding/Hygiene Variety Packs',\n",
       " 'Herbs/Spices/Extracts',\n",
       " 'Glass',\n",
       " 'Demolition/Removal',\n",
       " 'Target Sports Equipment',\n",
       " 'Footwear Accessories',\n",
       " 'Sauces/Spreads/Dips/Condiments',\n",
       " 'Photography Printing/Dark Room Equipment',\n",
       " 'Food Measuring Equipment',\n",
       " 'Asphalt/Concrete/Masonry',\n",
       " 'Wall/Ceiling Coverings',\n",
       " 'Health Enhancement Variety Packs',\n",
       " 'Lubricating Products',\n",
       " 'Lawn/Garden Outdoor Structures',\n",
       " 'Painting',\n",
       " 'Wood Burning/Engraving Craft Supplies',\n",
       " 'Beans (With Pods)',\n",
       " 'Lawn/Garden Cooking/Heating Appliances',\n",
       " 'Diagnostic Monitors',\n",
       " 'Toys/Games Variety Packs',\n",
       " 'Power Tools � Stationary/Bench-top',\n",
       " 'Lawn/Garden Plants',\n",
       " 'Personal Accessories Variety Packs',\n",
       " 'Automotive Interior Accessories � Interior Dash',\n",
       " 'Computer/Video Game Control/Input Devices',\n",
       " 'Gastrointestinal Remedy Products',\n",
       " 'Major Laundry Appliances',\n",
       " 'Occasion Supplies',\n",
       " 'Drug Administration',\n",
       " 'Wrenches/Spanners/Keys',\n",
       " 'Meat/Poultry � Prepared/Processed',\n",
       " 'Fresheners/Deodorisers',\n",
       " 'Non Alcoholic Beverages � Ready to Drink',\n",
       " 'Milk/Milk Substitutes',\n",
       " 'Foot/Leg Care/Treatments',\n",
       " 'Car Audio',\n",
       " 'Drywall Tools',\n",
       " 'Beverages Variety Packs',\n",
       " 'Recordable Media',\n",
       " 'Computers/Video Games Variety Packs',\n",
       " 'Bromelia � Live Plants',\n",
       " 'Health Treatments/Aids Variety Packs',\n",
       " 'Stationery/Office Machinery/Occasion Supplies Variety Packs',\n",
       " 'Developmental/Educational Toys',\n",
       " 'Tents/Weather Structures',\n",
       " 'Musical Toys',\n",
       " 'Yogurt/Yogurt Substitutes',\n",
       " 'Tools/Equipment � Hand Variety Packs',\n",
       " 'Fixed Communication Devices',\n",
       " 'Sanitary Ware',\n",
       " 'Periodicals',\n",
       " 'Aromatherapy',\n",
       " 'Saws � Non Powered',\n",
       " 'Kiting/Parachuting Sports Equipment',\n",
       " 'Masonry/Glass/Tile Tools',\n",
       " 'Spinning/Weaving Craft Supplies',\n",
       " 'Pet Care Variety Packs',\n",
       " 'Sweet Spreads',\n",
       " 'Oral Hygiene',\n",
       " 'Skin Tanning Products']"
      ]
     },
     "execution_count": 10,
     "metadata": {},
     "output_type": "execute_result"
    }
   ],
   "source": [
    "df_mwpd[\"ClassTitle\"].unique().tolist()"
   ]
  },
  {
   "cell_type": "code",
   "execution_count": 11,
   "id": "2bc88d6c",
   "metadata": {},
   "outputs": [],
   "source": [
    "df_gpc = pd.read_csv(GPC_PATH)"
   ]
  },
  {
   "cell_type": "code",
   "execution_count": 12,
   "id": "533dc10f",
   "metadata": {},
   "outputs": [],
   "source": [
    "true_classes = df_gpc.ClassTitle.unique().tolist()\n",
    "classes = df_mwpd[\"ClassTitle\"].unique().tolist()\n",
    "\n",
    "mapped_correctly = []\n",
    "mapped_incorrectly = []\n",
    "for cls in classes:\n",
    "    if cls in true_classes:\n",
    "        mapped_correctly.append(cls)\n",
    "    else:\n",
    "        mapped_incorrectly.append(cls)"
   ]
  },
  {
   "cell_type": "code",
   "execution_count": 13,
   "id": "ee303c2e",
   "metadata": {},
   "outputs": [
    {
     "data": {
      "text/plain": [
       "231"
      ]
     },
     "execution_count": 13,
     "metadata": {},
     "output_type": "execute_result"
    }
   ],
   "source": [
    "len(mapped_correctly)"
   ]
  },
  {
   "cell_type": "code",
   "execution_count": 14,
   "id": "092171b3",
   "metadata": {},
   "outputs": [
    {
     "data": {
      "text/plain": [
       "52"
      ]
     },
     "execution_count": 14,
     "metadata": {},
     "output_type": "execute_result"
    }
   ],
   "source": [
    "len(mapped_incorrectly)"
   ]
  },
  {
   "cell_type": "markdown",
   "id": "53d2c87a",
   "metadata": {},
   "source": [
    "## Mapping\n",
    "- Lawn/Garden Pools/Ponds/Water Features and Ornaments\n",
    "- Watercraft Sports Equipment (Non Powered) -> Watercraft Sports Equipment\n",
    "- Sportswear -> Activewear\n",
    "- Baby Care (Can't find in gpc)\n",
    "- Automotive Exterior Accessories � Coverings/Protection -> Automotive Exterior Accessories - Coverings/Protection\n",
    "- Vegetables � Prepared/Processed -> Vegetables - Prepared/Processed\n",
    "- Tableware � Serving/Eating/Drinking Equipment\n",
    "- Tobacco Products/Smoking Accessories\n",
    "- Flooring -> Wall/Ceiling/Flooring Coverings\n",
    "- Power Tools � Hand-held Portable\n",
    "- Alcoholic Beverages -> Alcoholic Beverages (Includes De-Alcoholised Variants)\n",
    "- Insect/Pest/Allergen Control\n",
    "- Motorcycles -> Motorcycles/ All Terrain Vehicles/ Utility Task Vehicles\n",
    "- Needlework/Toy Making Craft Supplies\n",
    "- Electric Lamps/Light Bulbs/Lighting -> Lamps/Light Bulbs/Lighting\n",
    "- Lawn/Garden Equipment -> Lawn/Garden Equipment and Tools\n",
    "- Protective Personal Aids � DIY\n",
    "- Toy Vehicles � Non-ride -> Toy Vehicles - Non-ride\n",
    "- Plumbing/Heating Ventilation/Air Conditioning Variety Packs -> Plumbing/Heating/Ventilation/Air Conditioning Variety Packs\n",
    "- Fruit � Prepared/Processed -> Fruit - Prepared/Processed\n",
    "- Power Tools � Lifting/Handling Equipment\n",
    "- Cosmetic Products\n",
    "- Outdoor Games/Play Structures -> Indoor/Outdoor Games/Play Structures\n",
    "- Arts/Crafts Variety Packs -> Arts/Crafts/Needlework Supplies\n",
    "- Household/Office Fabric/Textile Furnishings\n",
    "- Candle/Soap Craft Supplies -> Arts/Crafts/Needlework Supplies\n",
    "- Knives � Non Powered\n",
    "- Scooter/Skateboard Sports Equipment -> Scooter/Skate Sports Equipment\n",
    "- Toys � Ride-on -> Toys - Ride-on\n",
    "- Seeds/Spores (Its family is Seeds/Spores)\n",
    "- Bedding -> Household/Bedding/Office Furnishings\n",
    "- Baby Hygiene/Grooming\n",
    "- Baby Furniture/Transportation/Safety\n",
    "- Lawn/Garden Animal Repellents/Deterrents\n",
    "- Lawn/Garden Lighting\n",
    "- Automotive Interior Accessories � Interior Flooring -> Automotive Interior Accessories - Interior Flooring\n",
    "- Water/Gas Supply -> Water/Gas Supply/Central Heating\n",
    "- Pliers/Pincers/Metal Cutting Tools -> Pliers/Pincers/Grabbers/Cutting Tools\n",
    "- Fuel Pumps\n",
    "- Baby Feeding/Hygiene Variety Packs\n",
    "- Demolition/Removal -> Demolition/Removal Tools\n",
    "- Wall/Ceiling Coverings -> Wall/Ceiling/Flooring Coverings\n",
    "- Wood Burning/Engraving Craft Supplies -> Arts/Crafts/Needlework Tools\n",
    "- Power Tools � Stationary/Bench-top\n",
    "- Lawn/Garden Plants -> Lawn/Garden Outdoor Structures (Not sure)\n",
    "- Automotive Interior Accessories � Interior Dash -> Automotive Interior Accessories - Interior Dash\n",
    "- Meat/Poultry � Prepared/Processed -> Meat/Poultry/Other Animals - Prepared/Processed\n",
    "- Non Alcoholic Beverages � Ready to Drink -> Non Alcoholic Beverages - Ready to Drink\n",
    "- Bromelia � Live Plants -> Bromelia - Live Plants\n",
    "- Tools/Equipment � Hand Variety Packs -> Tools/Equipment Variety Packs\n",
    "- Saws � Non Powered -> Saws\n",
    "- Spinning/Weaving Craft Supplies -> Arts/Crafts/Needlework Tools"
   ]
  },
  {
   "cell_type": "code",
   "execution_count": 15,
   "id": "df5d2d67",
   "metadata": {},
   "outputs": [
    {
     "data": {
      "text/html": [
       "<div>\n",
       "<style scoped>\n",
       "    .dataframe tbody tr th:only-of-type {\n",
       "        vertical-align: middle;\n",
       "    }\n",
       "\n",
       "    .dataframe tbody tr th {\n",
       "        vertical-align: top;\n",
       "    }\n",
       "\n",
       "    .dataframe thead th {\n",
       "        text-align: right;\n",
       "    }\n",
       "</style>\n",
       "<table border=\"1\" class=\"dataframe\">\n",
       "  <thead>\n",
       "    <tr style=\"text-align: right;\">\n",
       "      <th></th>\n",
       "      <th>Name</th>\n",
       "      <th>Description</th>\n",
       "      <th>SegmentTitle</th>\n",
       "      <th>FamilyTitle</th>\n",
       "      <th>ClassTitle</th>\n",
       "    </tr>\n",
       "  </thead>\n",
       "  <tbody>\n",
       "    <tr>\n",
       "      <th>13</th>\n",
       "      <td>Seattle Seahawks 12th Fan Burlap Garden Flag</td>\n",
       "      <td>Celebrate your Seattle Seahawks fandom when yo...</td>\n",
       "      <td>Lawn/Garden Supplies</td>\n",
       "      <td>Lawn/Garden Supplies</td>\n",
       "      <td>Lawn/Garden Pools/Ponds/Water Features and Orn...</td>\n",
       "    </tr>\n",
       "    <tr>\n",
       "      <th>824</th>\n",
       "      <td>Sporting Kansas City 11x15 Blue Garden Flag</td>\n",
       "      <td>Stake this Sporting Kansas City 11x15 Blue Gar...</td>\n",
       "      <td>Lawn/Garden Supplies</td>\n",
       "      <td>Lawn/Garden Supplies</td>\n",
       "      <td>Lawn/Garden Pools/Ponds/Water Features and Orn...</td>\n",
       "    </tr>\n",
       "  </tbody>\n",
       "</table>\n",
       "</div>"
      ],
      "text/plain": [
       "                                             Name  \\\n",
       "13   Seattle Seahawks 12th Fan Burlap Garden Flag   \n",
       "824   Sporting Kansas City 11x15 Blue Garden Flag   \n",
       "\n",
       "                                           Description          SegmentTitle  \\\n",
       "13   Celebrate your Seattle Seahawks fandom when yo...  Lawn/Garden Supplies   \n",
       "824  Stake this Sporting Kansas City 11x15 Blue Gar...  Lawn/Garden Supplies   \n",
       "\n",
       "              FamilyTitle                                         ClassTitle  \n",
       "13   Lawn/Garden Supplies  Lawn/Garden Pools/Ponds/Water Features and Orn...  \n",
       "824  Lawn/Garden Supplies  Lawn/Garden Pools/Ponds/Water Features and Orn...  "
      ]
     },
     "execution_count": 15,
     "metadata": {},
     "output_type": "execute_result"
    }
   ],
   "source": [
    "cls = \"Lawn/Garden Pools/Ponds/Water Features and Ornaments\"\n",
    "df_mwpd[df_mwpd[\"ClassTitle\"]==cls].head(2)\n"
   ]
  },
  {
   "cell_type": "code",
   "execution_count": 16,
   "id": "029c21d2",
   "metadata": {},
   "outputs": [
    {
     "data": {
      "text/plain": [
       "37"
      ]
     },
     "execution_count": 16,
     "metadata": {},
     "output_type": "execute_result"
    }
   ],
   "source": [
    "len(df_mwpd[df_mwpd[\"ClassTitle\"]==cls])"
   ]
  },
  {
   "cell_type": "code",
   "execution_count": null,
   "id": "cf145b50",
   "metadata": {},
   "outputs": [],
   "source": []
  }
 ],
 "metadata": {
  "kernelspec": {
   "display_name": "prodify-v2",
   "language": "python",
   "name": "python3"
  },
  "language_info": {
   "codemirror_mode": {
    "name": "ipython",
    "version": 3
   },
   "file_extension": ".py",
   "mimetype": "text/x-python",
   "name": "python",
   "nbconvert_exporter": "python",
   "pygments_lexer": "ipython3",
   "version": "3.12.11"
  }
 },
 "nbformat": 4,
 "nbformat_minor": 5
}
