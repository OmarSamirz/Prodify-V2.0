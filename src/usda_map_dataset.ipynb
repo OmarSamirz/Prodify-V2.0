{
 "cells": [
  {
   "cell_type": "markdown",
   "id": "cbd13ec9",
   "metadata": {},
   "source": [
    "# Import Packages"
   ]
  },
  {
   "cell_type": "code",
   "execution_count": null,
   "id": "bc25c69c",
   "metadata": {},
   "outputs": [
    {
     "name": "stdout",
     "output_type": "stream",
     "text": [
      "Log directory cleaned: c:\\internship\\Prodify-V2.0\\src\\logs\n",
      "Logger initialized. All logs will be saved to: c:\\internship\\Prodify-V2.0\\src\\logs\\log.txt\n",
      "[2025-09-21 12:34:33] - logger:_log - INFO - Logger initialized. Logs will be saved to c:\\internship\\Prodify-V2.0\\src\\logs\\log.txt\n"
     ]
    },
    {
     "name": "stdout",
     "output_type": "stream",
     "text": [
      "[2025-09-21 12:42:25] - logger:write - INFO - <class 'pandas.core.frame.DataFrame'>\n",
      "RangeIndex: 3351 entries, 0 to 3350\n",
      "Data columns (total 6 columns):\n",
      " #   Column        Non-Null Count  Dtype \n",
      "---  ------        --------------  ----- \n",
      " 0   id            3351 non-null   int64 \n",
      " 1   product_name  3351 non-null   object\n",
      " 2   segment       3351 non-null   object\n",
      " 3   family        3351 non-null   object\n",
      " 4   class         3351 non-null   object\n",
      " 5   brick         3351 non-null   object\n",
      "dtypes: int64(1), object(5)\n",
      "memory usage: 157.2+ KB\n",
      "[2025-09-21 12:42:50] - logger:write - INFO - <class 'pandas.core.frame.DataFrame'>\n",
      "RangeIndex: 3351 entries, 0 to 3350\n",
      "Data columns (total 6 columns):\n",
      " #   Column        Non-Null Count  Dtype \n",
      "---  ------        --------------  ----- \n",
      " 0   id            3351 non-null   int64 \n",
      " 1   product_name  3351 non-null   object\n",
      " 2   segment       3351 non-null   object\n",
      " 3   family        3351 non-null   object\n",
      " 4   class         3351 non-null   object\n",
      " 5   brick         3351 non-null   object\n",
      "dtypes: int64(1), object(5)\n",
      "memory usage: 157.2+ KB\n",
      "[2025-09-21 12:42:56] - logger:write - INFO - <class 'pandas.core.frame.DataFrame'>\n",
      "RangeIndex: 3351 entries, 0 to 3350\n",
      "Data columns (total 6 columns):\n",
      " #   Column        Non-Null Count  Dtype \n",
      "---  ------        --------------  ----- \n",
      " 0   id            3351 non-null   int64 \n",
      " 1   product_name  3351 non-null   object\n",
      " 2   segment       3351 non-null   object\n",
      " 3   family        3351 non-null   object\n",
      " 4   class         3351 non-null   object\n",
      " 5   brick         3351 non-null   object\n",
      "dtypes: int64(1), object(5)\n",
      "memory usage: 157.2+ KB\n",
      "[2025-09-21 12:42:56] - logger:flush - INFO - None\n"
     ]
    }
   ],
   "source": [
    "import pandas as pd\n",
    "\n",
    "from utils import get_labels\n",
    "from constants import USDA_FULL_DATASET_PATH, GPC_PATH"
   ]
  },
  {
   "cell_type": "code",
   "execution_count": 2,
   "id": "e809a719",
   "metadata": {},
   "outputs": [],
   "source": [
    "df_gpc = pd.read_csv(GPC_PATH)"
   ]
  },
  {
   "cell_type": "markdown",
   "id": "088945ff",
   "metadata": {},
   "source": [
    "# Mapping USDA Dataset"
   ]
  },
  {
   "cell_type": "code",
   "execution_count": 3,
   "id": "9973aebf",
   "metadata": {},
   "outputs": [
    {
     "data": {
      "text/plain": [
       "\"\\nwhich category it belongs to 'Confectionery Products' 'Confectionery/Sugar Sweetening Products Variety Packs' 'Sugars/Sugar Substitute Products'\\n\""
      ]
     },
     "execution_count": 3,
     "metadata": {},
     "output_type": "execute_result"
    }
   ],
   "source": [
    "# Labelled correctly\n",
    "# Vegetables - Prepared/Processed\n",
    "# Non Alcoholic Beverages - Ready to Drink\n",
    "# Pasta/Noodles\n",
    "# Nuts/Seeds - Prepared/Processed\n",
    "# Coffee/Coffee Substitutes\n",
    "\n",
    "# Mapping\n",
    "# `Breakfast Cereals` to `Processed Cereal Products`\n",
    "# `Oils/Fats Edible` to `Oils Edible`\n",
    "\n",
    "# Need to be mapped manually\n",
    "# Prepared/Preserved Foods - Liquid/Sauce/Soup (Done)\n",
    "# Confectionery/Sugar Sweetening Products (Done)\n",
    "# Milk/Butter/Cream/Yogurts/Cheese/Eggs/Substitutes (Done)\n",
    "# Seasonings/Preservatives/Extracts (Done)\n",
    "# Bread/Bakery Products (Done)\n",
    "\n",
    "\"\"\"\n",
    "which category it belongs to 'Confectionery Products' 'Confectionery/Sugar Sweetening Products Variety Packs' 'Sugars/Sugar Substitute Products'\n",
    "\"\"\""
   ]
  },
  {
   "cell_type": "code",
   "execution_count": 4,
   "id": "986b8f76",
   "metadata": {},
   "outputs": [],
   "source": [
    "df_usda = pd.read_csv(USDA_FULL_DATASET_PATH)"
   ]
  },
  {
   "cell_type": "code",
   "execution_count": 5,
   "id": "c198eb97",
   "metadata": {},
   "outputs": [],
   "source": [
    "df_usda[\"mapped_class\"] = df_usda[\"mapped_class\"].fillna(df_usda[\"class\"])\n",
    "\n",
    "mapping = {\n",
    "    \"Breakfast Cereals\": \"Processed Cereal Products\",\n",
    "    \"Oils/Fats Edible\": \"Oils Edible\"\n",
    "}\n",
    "\n",
    "df_usda[\"mapped_class\"] = df_usda[\"mapped_class\"].replace(mapping)"
   ]
  },
  {
   "cell_type": "code",
   "execution_count": 6,
   "id": "ae071390",
   "metadata": {},
   "outputs": [
    {
     "data": {
      "text/html": [
       "<div>\n",
       "<style scoped>\n",
       "    .dataframe tbody tr th:only-of-type {\n",
       "        vertical-align: middle;\n",
       "    }\n",
       "\n",
       "    .dataframe tbody tr th {\n",
       "        vertical-align: top;\n",
       "    }\n",
       "\n",
       "    .dataframe thead th {\n",
       "        text-align: right;\n",
       "    }\n",
       "</style>\n",
       "<table border=\"1\" class=\"dataframe\">\n",
       "  <thead>\n",
       "    <tr style=\"text-align: right;\">\n",
       "      <th></th>\n",
       "      <th>id</th>\n",
       "      <th>product_name</th>\n",
       "      <th>segment</th>\n",
       "      <th>family</th>\n",
       "      <th>class</th>\n",
       "      <th>brick</th>\n",
       "      <th>mapped_class</th>\n",
       "    </tr>\n",
       "  </thead>\n",
       "  <tbody>\n",
       "    <tr>\n",
       "      <th>0</th>\n",
       "      <td>0</td>\n",
       "      <td>WESSON Vegetable Oil 1 GAL</td>\n",
       "      <td>Food/Beverage</td>\n",
       "      <td>Oils/Fats Edible</td>\n",
       "      <td>Oils/Fats Edible</td>\n",
       "      <td>Oils/Fats Edible - Liquid</td>\n",
       "      <td>Oils Edible</td>\n",
       "    </tr>\n",
       "    <tr>\n",
       "      <th>1</th>\n",
       "      <td>1</td>\n",
       "      <td>CAMPBELL'S SLOW KETTLE SOUP CLAM CHOWDER</td>\n",
       "      <td>Food/Beverage</td>\n",
       "      <td>Prepared/Preserved Foods</td>\n",
       "      <td>Prepared/Preserved Foods - Liquid/Sauce/Soup</td>\n",
       "      <td>Soup - Ready to Eat (Shelf Stable)</td>\n",
       "      <td>Prepared Soups</td>\n",
       "    </tr>\n",
       "    <tr>\n",
       "      <th>2</th>\n",
       "      <td>2</td>\n",
       "      <td>CAMPBELL'S SLOW KETTLE SOUP CHEESE BROCCOLI</td>\n",
       "      <td>Food/Beverage</td>\n",
       "      <td>Prepared/Preserved Foods</td>\n",
       "      <td>Prepared/Preserved Foods - Liquid/Sauce/Soup</td>\n",
       "      <td>Soup - Ready to Eat (Shelf Stable)</td>\n",
       "      <td>Prepared Soups</td>\n",
       "    </tr>\n",
       "    <tr>\n",
       "      <th>3</th>\n",
       "      <td>3</td>\n",
       "      <td>CAMPBELL'S SOUP BEAN AND HAM</td>\n",
       "      <td>Food/Beverage</td>\n",
       "      <td>Prepared/Preserved Foods</td>\n",
       "      <td>Prepared/Preserved Foods - Liquid/Sauce/Soup</td>\n",
       "      <td>Soup - Ready to Eat (Shelf Stable)</td>\n",
       "      <td>Prepared Soups</td>\n",
       "    </tr>\n",
       "    <tr>\n",
       "      <th>4</th>\n",
       "      <td>4</td>\n",
       "      <td>PREGO SAUCES TOMATO BASIL</td>\n",
       "      <td>Food/Beverage</td>\n",
       "      <td>Prepared/Preserved Foods</td>\n",
       "      <td>Prepared/Preserved Foods - Liquid/Sauce/Soup</td>\n",
       "      <td>Sauce - Ready to Eat (Shelf Stable)</td>\n",
       "      <td>Vegetable Based Products / Meals</td>\n",
       "    </tr>\n",
       "    <tr>\n",
       "      <th>...</th>\n",
       "      <td>...</td>\n",
       "      <td>...</td>\n",
       "      <td>...</td>\n",
       "      <td>...</td>\n",
       "      <td>...</td>\n",
       "      <td>...</td>\n",
       "      <td>...</td>\n",
       "    </tr>\n",
       "    <tr>\n",
       "      <th>3346</th>\n",
       "      <td>4021</td>\n",
       "      <td>HOMESTYLE GARDEN HERB TRADITIONAL CUT BAKED CR...</td>\n",
       "      <td>Food/Beverage</td>\n",
       "      <td>Bread/Bakery Products</td>\n",
       "      <td>Bread/Bakery Products</td>\n",
       "      <td>Bread (Perishable)</td>\n",
       "      <td>Bread</td>\n",
       "    </tr>\n",
       "    <tr>\n",
       "      <th>3347</th>\n",
       "      <td>4024</td>\n",
       "      <td>ENRICHED MACARONI PRODUCT, ITALIAN TROTTOLE</td>\n",
       "      <td>Food/Beverage</td>\n",
       "      <td>Cereal/Grain/Pulse Products</td>\n",
       "      <td>Pasta/Noodles</td>\n",
       "      <td>Pasta/Noodles - Unprepared/Unprocessed (Shelf ...</td>\n",
       "      <td>Pasta/Noodles</td>\n",
       "    </tr>\n",
       "    <tr>\n",
       "      <th>3348</th>\n",
       "      <td>4026</td>\n",
       "      <td>CAESAR HOMESTYLE TRADITIONAL CUT BAKED CROUTON...</td>\n",
       "      <td>Food/Beverage</td>\n",
       "      <td>Bread/Bakery Products</td>\n",
       "      <td>Bread/Bakery Products</td>\n",
       "      <td>Bread (Perishable)</td>\n",
       "      <td>Bread</td>\n",
       "    </tr>\n",
       "    <tr>\n",
       "      <th>3349</th>\n",
       "      <td>4027</td>\n",
       "      <td>SMILE &amp; SAVE, SOFT BAKED COOKIES, DUTCH COCA, ...</td>\n",
       "      <td>Food/Beverage</td>\n",
       "      <td>Bread/Bakery Products</td>\n",
       "      <td>Bread/Bakery Products</td>\n",
       "      <td>Biscuits/Cookies (Shelf Stable)</td>\n",
       "      <td>Biscuits/Cookies</td>\n",
       "    </tr>\n",
       "    <tr>\n",
       "      <th>3350</th>\n",
       "      <td>4028</td>\n",
       "      <td>STEEL CUT OATS</td>\n",
       "      <td>Food/Beverage</td>\n",
       "      <td>Cereal/Grain/Pulse Products</td>\n",
       "      <td>Breakfast Cereals</td>\n",
       "      <td>Breakfast Cereals - Ready to Eat</td>\n",
       "      <td>Processed Cereal Products</td>\n",
       "    </tr>\n",
       "  </tbody>\n",
       "</table>\n",
       "<p>3351 rows × 7 columns</p>\n",
       "</div>"
      ],
      "text/plain": [
       "        id                                       product_name        segment  \\\n",
       "0        0                         WESSON Vegetable Oil 1 GAL  Food/Beverage   \n",
       "1        1           CAMPBELL'S SLOW KETTLE SOUP CLAM CHOWDER  Food/Beverage   \n",
       "2        2        CAMPBELL'S SLOW KETTLE SOUP CHEESE BROCCOLI  Food/Beverage   \n",
       "3        3                       CAMPBELL'S SOUP BEAN AND HAM  Food/Beverage   \n",
       "4        4                          PREGO SAUCES TOMATO BASIL  Food/Beverage   \n",
       "...    ...                                                ...            ...   \n",
       "3346  4021  HOMESTYLE GARDEN HERB TRADITIONAL CUT BAKED CR...  Food/Beverage   \n",
       "3347  4024        ENRICHED MACARONI PRODUCT, ITALIAN TROTTOLE  Food/Beverage   \n",
       "3348  4026  CAESAR HOMESTYLE TRADITIONAL CUT BAKED CROUTON...  Food/Beverage   \n",
       "3349  4027  SMILE & SAVE, SOFT BAKED COOKIES, DUTCH COCA, ...  Food/Beverage   \n",
       "3350  4028                                     STEEL CUT OATS  Food/Beverage   \n",
       "\n",
       "                           family  \\\n",
       "0                Oils/Fats Edible   \n",
       "1        Prepared/Preserved Foods   \n",
       "2        Prepared/Preserved Foods   \n",
       "3        Prepared/Preserved Foods   \n",
       "4        Prepared/Preserved Foods   \n",
       "...                           ...   \n",
       "3346        Bread/Bakery Products   \n",
       "3347  Cereal/Grain/Pulse Products   \n",
       "3348        Bread/Bakery Products   \n",
       "3349        Bread/Bakery Products   \n",
       "3350  Cereal/Grain/Pulse Products   \n",
       "\n",
       "                                             class  \\\n",
       "0                                 Oils/Fats Edible   \n",
       "1     Prepared/Preserved Foods - Liquid/Sauce/Soup   \n",
       "2     Prepared/Preserved Foods - Liquid/Sauce/Soup   \n",
       "3     Prepared/Preserved Foods - Liquid/Sauce/Soup   \n",
       "4     Prepared/Preserved Foods - Liquid/Sauce/Soup   \n",
       "...                                            ...   \n",
       "3346                         Bread/Bakery Products   \n",
       "3347                                 Pasta/Noodles   \n",
       "3348                         Bread/Bakery Products   \n",
       "3349                         Bread/Bakery Products   \n",
       "3350                             Breakfast Cereals   \n",
       "\n",
       "                                                  brick  \\\n",
       "0                             Oils/Fats Edible - Liquid   \n",
       "1                    Soup - Ready to Eat (Shelf Stable)   \n",
       "2                    Soup - Ready to Eat (Shelf Stable)   \n",
       "3                    Soup - Ready to Eat (Shelf Stable)   \n",
       "4                   Sauce - Ready to Eat (Shelf Stable)   \n",
       "...                                                 ...   \n",
       "3346                                 Bread (Perishable)   \n",
       "3347  Pasta/Noodles - Unprepared/Unprocessed (Shelf ...   \n",
       "3348                                 Bread (Perishable)   \n",
       "3349                    Biscuits/Cookies (Shelf Stable)   \n",
       "3350                   Breakfast Cereals - Ready to Eat   \n",
       "\n",
       "                          mapped_class  \n",
       "0                          Oils Edible  \n",
       "1                       Prepared Soups  \n",
       "2                       Prepared Soups  \n",
       "3                       Prepared Soups  \n",
       "4     Vegetable Based Products / Meals  \n",
       "...                                ...  \n",
       "3346                             Bread  \n",
       "3347                     Pasta/Noodles  \n",
       "3348                             Bread  \n",
       "3349                  Biscuits/Cookies  \n",
       "3350         Processed Cereal Products  \n",
       "\n",
       "[3351 rows x 7 columns]"
      ]
     },
     "execution_count": 6,
     "metadata": {},
     "output_type": "execute_result"
    }
   ],
   "source": [
    "df_usda"
   ]
  },
  {
   "cell_type": "code",
   "execution_count": 7,
   "id": "e5988ec9",
   "metadata": {},
   "outputs": [],
   "source": [
    "df_usda[\"mapped_segment\"] = df_usda[\"mapped_class\"].apply(lambda x: df_gpc[df_gpc[\"ClassTitle\"]==x][\"SegmentTitle\"].tolist()[0])\n",
    "df_usda[\"mapped_family\"] = df_usda[\"mapped_class\"].apply(lambda x: df_gpc[df_gpc[\"ClassTitle\"]==x][\"FamilyTitle\"].tolist()[0])"
   ]
  },
  {
   "cell_type": "code",
   "execution_count": 8,
   "id": "12f61ab5",
   "metadata": {},
   "outputs": [],
   "source": [
    "df_usda.drop(columns=[\"segment\", \"class\", \"family\"], inplace=True)"
   ]
  },
  {
   "cell_type": "code",
   "execution_count": 9,
   "id": "04511500",
   "metadata": {},
   "outputs": [],
   "source": [
    "df_usda.rename(columns={\n",
    "    \"mapped_segment\": \"segment\",\n",
    "    \"mapped_family\": \"family\",\n",
    "    \"mapped_class\": \"class\",\n",
    "}, inplace=True)"
   ]
  },
  {
   "cell_type": "code",
   "execution_count": 17,
   "id": "7cdeb53f",
   "metadata": {},
   "outputs": [
    {
     "data": {
      "text/html": [
       "<div>\n",
       "<style scoped>\n",
       "    .dataframe tbody tr th:only-of-type {\n",
       "        vertical-align: middle;\n",
       "    }\n",
       "\n",
       "    .dataframe tbody tr th {\n",
       "        vertical-align: top;\n",
       "    }\n",
       "\n",
       "    .dataframe thead th {\n",
       "        text-align: right;\n",
       "    }\n",
       "</style>\n",
       "<table border=\"1\" class=\"dataframe\">\n",
       "  <thead>\n",
       "    <tr style=\"text-align: right;\">\n",
       "      <th></th>\n",
       "      <th>id</th>\n",
       "      <th>product_name</th>\n",
       "      <th>segment</th>\n",
       "      <th>family</th>\n",
       "      <th>class</th>\n",
       "      <th>brick</th>\n",
       "    </tr>\n",
       "  </thead>\n",
       "  <tbody>\n",
       "    <tr>\n",
       "      <th>0</th>\n",
       "      <td>0</td>\n",
       "      <td>WESSON Vegetable Oil 1 GAL</td>\n",
       "      <td>Food/Beverage</td>\n",
       "      <td>Oils/Fats Edible</td>\n",
       "      <td>Oils Edible</td>\n",
       "      <td>Oils/Fats Edible - Liquid</td>\n",
       "    </tr>\n",
       "    <tr>\n",
       "      <th>1</th>\n",
       "      <td>1</td>\n",
       "      <td>CAMPBELL'S SLOW KETTLE SOUP CLAM CHOWDER</td>\n",
       "      <td>Food/Beverage</td>\n",
       "      <td>Prepared/Preserved Foods</td>\n",
       "      <td>Prepared Soups</td>\n",
       "      <td>Soup - Ready to Eat (Shelf Stable)</td>\n",
       "    </tr>\n",
       "    <tr>\n",
       "      <th>2</th>\n",
       "      <td>2</td>\n",
       "      <td>CAMPBELL'S SLOW KETTLE SOUP CHEESE BROCCOLI</td>\n",
       "      <td>Food/Beverage</td>\n",
       "      <td>Prepared/Preserved Foods</td>\n",
       "      <td>Prepared Soups</td>\n",
       "      <td>Soup - Ready to Eat (Shelf Stable)</td>\n",
       "    </tr>\n",
       "    <tr>\n",
       "      <th>3</th>\n",
       "      <td>3</td>\n",
       "      <td>CAMPBELL'S SOUP BEAN AND HAM</td>\n",
       "      <td>Food/Beverage</td>\n",
       "      <td>Prepared/Preserved Foods</td>\n",
       "      <td>Prepared Soups</td>\n",
       "      <td>Soup - Ready to Eat (Shelf Stable)</td>\n",
       "    </tr>\n",
       "    <tr>\n",
       "      <th>4</th>\n",
       "      <td>4</td>\n",
       "      <td>PREGO SAUCES TOMATO BASIL</td>\n",
       "      <td>Food/Beverage</td>\n",
       "      <td>Prepared/Preserved Foods</td>\n",
       "      <td>Vegetable Based Products / Meals</td>\n",
       "      <td>Sauce - Ready to Eat (Shelf Stable)</td>\n",
       "    </tr>\n",
       "    <tr>\n",
       "      <th>...</th>\n",
       "      <td>...</td>\n",
       "      <td>...</td>\n",
       "      <td>...</td>\n",
       "      <td>...</td>\n",
       "      <td>...</td>\n",
       "      <td>...</td>\n",
       "    </tr>\n",
       "    <tr>\n",
       "      <th>3346</th>\n",
       "      <td>4021</td>\n",
       "      <td>HOMESTYLE GARDEN HERB TRADITIONAL CUT BAKED CR...</td>\n",
       "      <td>Food/Beverage</td>\n",
       "      <td>Bread/Bakery Products</td>\n",
       "      <td>Bread</td>\n",
       "      <td>Bread (Perishable)</td>\n",
       "    </tr>\n",
       "    <tr>\n",
       "      <th>3347</th>\n",
       "      <td>4024</td>\n",
       "      <td>ENRICHED MACARONI PRODUCT, ITALIAN TROTTOLE</td>\n",
       "      <td>Food/Beverage</td>\n",
       "      <td>Prepared/Preserved Foods</td>\n",
       "      <td>Pasta/Noodles</td>\n",
       "      <td>Pasta/Noodles - Unprepared/Unprocessed (Shelf ...</td>\n",
       "    </tr>\n",
       "    <tr>\n",
       "      <th>3348</th>\n",
       "      <td>4026</td>\n",
       "      <td>CAESAR HOMESTYLE TRADITIONAL CUT BAKED CROUTON...</td>\n",
       "      <td>Food/Beverage</td>\n",
       "      <td>Bread/Bakery Products</td>\n",
       "      <td>Bread</td>\n",
       "      <td>Bread (Perishable)</td>\n",
       "    </tr>\n",
       "    <tr>\n",
       "      <th>3349</th>\n",
       "      <td>4027</td>\n",
       "      <td>SMILE &amp; SAVE, SOFT BAKED COOKIES, DUTCH COCA, ...</td>\n",
       "      <td>Food/Beverage</td>\n",
       "      <td>Bread/Bakery Products</td>\n",
       "      <td>Biscuits/Cookies</td>\n",
       "      <td>Biscuits/Cookies (Shelf Stable)</td>\n",
       "    </tr>\n",
       "    <tr>\n",
       "      <th>3350</th>\n",
       "      <td>4028</td>\n",
       "      <td>STEEL CUT OATS</td>\n",
       "      <td>Food/Beverage</td>\n",
       "      <td>Cereal/Grain/Pulse Products</td>\n",
       "      <td>Processed Cereal Products</td>\n",
       "      <td>Breakfast Cereals - Ready to Eat</td>\n",
       "    </tr>\n",
       "  </tbody>\n",
       "</table>\n",
       "<p>3351 rows × 6 columns</p>\n",
       "</div>"
      ],
      "text/plain": [
       "        id                                       product_name        segment  \\\n",
       "0        0                         WESSON Vegetable Oil 1 GAL  Food/Beverage   \n",
       "1        1           CAMPBELL'S SLOW KETTLE SOUP CLAM CHOWDER  Food/Beverage   \n",
       "2        2        CAMPBELL'S SLOW KETTLE SOUP CHEESE BROCCOLI  Food/Beverage   \n",
       "3        3                       CAMPBELL'S SOUP BEAN AND HAM  Food/Beverage   \n",
       "4        4                          PREGO SAUCES TOMATO BASIL  Food/Beverage   \n",
       "...    ...                                                ...            ...   \n",
       "3346  4021  HOMESTYLE GARDEN HERB TRADITIONAL CUT BAKED CR...  Food/Beverage   \n",
       "3347  4024        ENRICHED MACARONI PRODUCT, ITALIAN TROTTOLE  Food/Beverage   \n",
       "3348  4026  CAESAR HOMESTYLE TRADITIONAL CUT BAKED CROUTON...  Food/Beverage   \n",
       "3349  4027  SMILE & SAVE, SOFT BAKED COOKIES, DUTCH COCA, ...  Food/Beverage   \n",
       "3350  4028                                     STEEL CUT OATS  Food/Beverage   \n",
       "\n",
       "                           family                             class  \\\n",
       "0                Oils/Fats Edible                       Oils Edible   \n",
       "1        Prepared/Preserved Foods                    Prepared Soups   \n",
       "2        Prepared/Preserved Foods                    Prepared Soups   \n",
       "3        Prepared/Preserved Foods                    Prepared Soups   \n",
       "4        Prepared/Preserved Foods  Vegetable Based Products / Meals   \n",
       "...                           ...                               ...   \n",
       "3346        Bread/Bakery Products                             Bread   \n",
       "3347     Prepared/Preserved Foods                     Pasta/Noodles   \n",
       "3348        Bread/Bakery Products                             Bread   \n",
       "3349        Bread/Bakery Products                  Biscuits/Cookies   \n",
       "3350  Cereal/Grain/Pulse Products         Processed Cereal Products   \n",
       "\n",
       "                                                  brick  \n",
       "0                             Oils/Fats Edible - Liquid  \n",
       "1                    Soup - Ready to Eat (Shelf Stable)  \n",
       "2                    Soup - Ready to Eat (Shelf Stable)  \n",
       "3                    Soup - Ready to Eat (Shelf Stable)  \n",
       "4                   Sauce - Ready to Eat (Shelf Stable)  \n",
       "...                                                 ...  \n",
       "3346                                 Bread (Perishable)  \n",
       "3347  Pasta/Noodles - Unprepared/Unprocessed (Shelf ...  \n",
       "3348                                 Bread (Perishable)  \n",
       "3349                    Biscuits/Cookies (Shelf Stable)  \n",
       "3350                   Breakfast Cereals - Ready to Eat  \n",
       "\n",
       "[3351 rows x 6 columns]"
      ]
     },
     "execution_count": 17,
     "metadata": {},
     "output_type": "execute_result"
    }
   ],
   "source": [
    "df_usda"
   ]
  },
  {
   "cell_type": "code",
   "execution_count": 11,
   "id": "aa062ccf",
   "metadata": {},
   "outputs": [
    {
     "data": {
      "text/plain": [
       "[]"
      ]
     },
     "execution_count": 11,
     "metadata": {},
     "output_type": "execute_result"
    }
   ],
   "source": [
    "segments = df_usda[\"segment\"].unique().tolist()\n",
    "true_segments = df_gpc[\"SegmentTitle\"].unique().tolist()\n",
    "get_labels(segments, true_segments)[\"incorrect_labels\"]"
   ]
  },
  {
   "cell_type": "code",
   "execution_count": 12,
   "id": "966cdf94",
   "metadata": {},
   "outputs": [
    {
     "data": {
      "text/plain": [
       "[]"
      ]
     },
     "execution_count": 12,
     "metadata": {},
     "output_type": "execute_result"
    }
   ],
   "source": [
    "classes = df_usda[\"family\"].unique().tolist()\n",
    "true_classes = df_gpc[\"FamilyTitle\"].unique().tolist()\n",
    "get_labels(classes, true_classes)[\"incorrect_labels\"]"
   ]
  },
  {
   "cell_type": "code",
   "execution_count": 13,
   "id": "ed4ff5f2",
   "metadata": {},
   "outputs": [
    {
     "data": {
      "text/plain": [
       "[]"
      ]
     },
     "execution_count": 13,
     "metadata": {},
     "output_type": "execute_result"
    }
   ],
   "source": [
    "classes = df_usda[\"class\"].unique().tolist()\n",
    "true_classes = df_gpc[\"ClassTitle\"].unique().tolist()\n",
    "get_labels(classes, true_classes)[\"incorrect_labels\"]"
   ]
  },
  {
   "cell_type": "code",
   "execution_count": 14,
   "id": "3f9b59b5",
   "metadata": {},
   "outputs": [],
   "source": [
    "df_usda = df_usda[[\"id\", \"product_name\", \"segment\", \"family\", \"class\", \"brick\"]]"
   ]
  },
  {
   "cell_type": "code",
   "execution_count": 15,
   "id": "8efb789f",
   "metadata": {},
   "outputs": [],
   "source": [
    "df_usda.to_csv(USDA_FULL_DATASET_PATH, index=False, encoding=\"utf-8-sig\")"
   ]
  },
  {
   "cell_type": "code",
   "execution_count": 25,
   "id": "a9852ca6",
   "metadata": {},
   "outputs": [
    {
     "data": {
      "text/html": [
       "<div>\n",
       "<style scoped>\n",
       "    .dataframe tbody tr th:only-of-type {\n",
       "        vertical-align: middle;\n",
       "    }\n",
       "\n",
       "    .dataframe tbody tr th {\n",
       "        vertical-align: top;\n",
       "    }\n",
       "\n",
       "    .dataframe thead th {\n",
       "        text-align: right;\n",
       "    }\n",
       "</style>\n",
       "<table border=\"1\" class=\"dataframe\">\n",
       "  <thead>\n",
       "    <tr style=\"text-align: right;\">\n",
       "      <th></th>\n",
       "      <th>id</th>\n",
       "      <th>product_name</th>\n",
       "      <th>segment</th>\n",
       "      <th>family</th>\n",
       "      <th>class</th>\n",
       "      <th>brick</th>\n",
       "    </tr>\n",
       "  </thead>\n",
       "  <tbody>\n",
       "  </tbody>\n",
       "</table>\n",
       "</div>"
      ],
      "text/plain": [
       "Empty DataFrame\n",
       "Columns: [id, product_name, segment, family, class, brick]\n",
       "Index: []"
      ]
     },
     "execution_count": 25,
     "metadata": {},
     "output_type": "execute_result"
    }
   ],
   "source": [
    "df_usda[df_usda[\"family\"].isna()]"
   ]
  },
  {
   "cell_type": "code",
   "execution_count": null,
   "id": "f5b5dcbe",
   "metadata": {},
   "outputs": [],
   "source": []
  }
 ],
 "metadata": {
  "kernelspec": {
   "display_name": "prodify-v2",
   "language": "python",
   "name": "python3"
  },
  "language_info": {
   "codemirror_mode": {
    "name": "ipython",
    "version": 3
   },
   "file_extension": ".py",
   "mimetype": "text/x-python",
   "name": "python",
   "nbconvert_exporter": "python",
   "pygments_lexer": "ipython3",
   "version": "3.12.11"
  }
 },
 "nbformat": 4,
 "nbformat_minor": 5
}
