{
 "cells": [
  {
   "cell_type": "markdown",
   "id": "f9119143",
   "metadata": {},
   "source": [
    "# Import Packages"
   ]
  },
  {
   "cell_type": "code",
   "execution_count": 1,
   "id": "e8a096e6",
   "metadata": {},
   "outputs": [
    {
     "name": "stdout",
     "output_type": "stream",
     "text": [
      "Log directory cleaned: c:\\internship\\Prodify-V2.0\\src\\logs\n",
      "Logger initialized. All logs will be saved to: c:\\internship\\Prodify-V2.0\\src\\logs\\log.txt\n",
      "[2025-09-21 13:04:28] - logger:_log - INFO - Logger initialized. Logs will be saved to c:\\internship\\Prodify-V2.0\\src\\logs\\log.txt\n"
     ]
    }
   ],
   "source": [
    "import pandas as pd\n",
    "\n",
    "from utils import get_labels\n",
    "from constants import MWPD_FULL_DATASET_PATH, GPC_PATH"
   ]
  },
  {
   "cell_type": "code",
   "execution_count": 2,
   "id": "2cd9ab41",
   "metadata": {},
   "outputs": [],
   "source": [
    "df_gpc = pd.read_csv(GPC_PATH)"
   ]
  },
  {
   "cell_type": "markdown",
   "id": "8028ddc7",
   "metadata": {},
   "source": [
    "# Map MWPD Dataset"
   ]
  },
  {
   "cell_type": "code",
   "execution_count": 3,
   "id": "0ada479f",
   "metadata": {},
   "outputs": [],
   "source": [
    "df_mwpd = pd.read_csv(MWPD_FULL_DATASET_PATH)"
   ]
  },
  {
   "cell_type": "code",
   "execution_count": 4,
   "id": "95b639cc",
   "metadata": {},
   "outputs": [
    {
     "data": {
      "text/html": [
       "<div>\n",
       "<style scoped>\n",
       "    .dataframe tbody tr th:only-of-type {\n",
       "        vertical-align: middle;\n",
       "    }\n",
       "\n",
       "    .dataframe tbody tr th {\n",
       "        vertical-align: top;\n",
       "    }\n",
       "\n",
       "    .dataframe thead th {\n",
       "        text-align: right;\n",
       "    }\n",
       "</style>\n",
       "<table border=\"1\" class=\"dataframe\">\n",
       "  <thead>\n",
       "    <tr style=\"text-align: right;\">\n",
       "      <th></th>\n",
       "      <th>Name</th>\n",
       "      <th>Description</th>\n",
       "      <th>SegmentTitle</th>\n",
       "      <th>FamilyTitle</th>\n",
       "      <th>ClassTitle</th>\n",
       "    </tr>\n",
       "  </thead>\n",
       "  <tbody>\n",
       "    <tr>\n",
       "      <th>0</th>\n",
       "      <td>Sterling Silver Angel Charm</td>\n",
       "      <td>This little angel charm is just heavenly</td>\n",
       "      <td>64000000_Personal Accessories</td>\n",
       "      <td>64010000_Personal Accessories</td>\n",
       "      <td>64010100_Jewellery</td>\n",
       "    </tr>\n",
       "    <tr>\n",
       "      <th>1</th>\n",
       "      <td>HP Pavilion 23xi 58.40 cm (23�) IPS Monitor</td>\n",
       "      <td>Share photos, videos, and games with everyone ...</td>\n",
       "      <td>65000000_Computing</td>\n",
       "      <td>65010000_Computers/Video Games</td>\n",
       "      <td>65010700_Computer/Video Game Peripherals</td>\n",
       "    </tr>\n",
       "    <tr>\n",
       "      <th>2</th>\n",
       "      <td>East Carolina Pirates Ladies Personalized Bask...</td>\n",
       "      <td>Feel like a bona fide member of East Carolina ...</td>\n",
       "      <td>67000000_Clothing</td>\n",
       "      <td>67010000_Clothing</td>\n",
       "      <td>67010800_Upper Body Wear/Tops</td>\n",
       "    </tr>\n",
       "    <tr>\n",
       "      <th>3</th>\n",
       "      <td>Tekonsha 90195 P3 Electric Brake Control, 1-4 ...</td>\n",
       "      <td>Receive free shipping on this item. Enter coup...</td>\n",
       "      <td>77000000_Automotive</td>\n",
       "      <td>77010000_Automotive Accessories and Maintenance</td>\n",
       "      <td>77011200_Automotive Maintenance/Repair</td>\n",
       "    </tr>\n",
       "    <tr>\n",
       "      <th>4</th>\n",
       "      <td>RN-XV WiFly Module - Wire Antenna</td>\n",
       "      <td>Description: The RN-XV module by Roving Networ...</td>\n",
       "      <td>78000000_Electrical Supplies</td>\n",
       "      <td>78050000_Electronic Communication Components</td>\n",
       "      <td>78050100_Electronic Communication Components</td>\n",
       "    </tr>\n",
       "    <tr>\n",
       "      <th>...</th>\n",
       "      <td>...</td>\n",
       "      <td>...</td>\n",
       "      <td>...</td>\n",
       "      <td>...</td>\n",
       "      <td>...</td>\n",
       "    </tr>\n",
       "    <tr>\n",
       "      <th>16114</th>\n",
       "      <td>Oklahoma Sooners Activo Cooler</td>\n",
       "      <td>Take your Sooners spirit with you to the next ...</td>\n",
       "      <td>73000000_Kitchen Merchandise</td>\n",
       "      <td>73040000_Kitchen Merchandise</td>\n",
       "      <td>73040200_Water/Beverage Equipment</td>\n",
       "    </tr>\n",
       "    <tr>\n",
       "      <th>16115</th>\n",
       "      <td>Ageless</td>\n",
       "      <td>AGELESS is a scientifically advanced and speci...</td>\n",
       "      <td>51000000_Healthcare</td>\n",
       "      <td>51120000_Health Enhancement</td>\n",
       "      <td>51121600_Vitamins/Minerals/Nutritional Supplem...</td>\n",
       "    </tr>\n",
       "    <tr>\n",
       "      <th>16116</th>\n",
       "      <td>Original Retro Brand Duquesne Dukes Womens Gre...</td>\n",
       "      <td>Stay warm and show your Dukes spirit in this D...</td>\n",
       "      <td>67000000_Clothing</td>\n",
       "      <td>67010000_Clothing</td>\n",
       "      <td>67010800_Upper Body Wear/Tops</td>\n",
       "    </tr>\n",
       "    <tr>\n",
       "      <th>16117</th>\n",
       "      <td>St Louis Cardinals Silver Plated Mens Cufflinks</td>\n",
       "      <td>Add a classy touch of Cardinals spirit to your...</td>\n",
       "      <td>67000000_Clothing</td>\n",
       "      <td>67010000_Clothing</td>\n",
       "      <td>67010100_Clothing Accessories</td>\n",
       "    </tr>\n",
       "    <tr>\n",
       "      <th>16118</th>\n",
       "      <td>Lumisource Spyra Bar Table</td>\n",
       "      <td>The Spyra Bar Table adds a colorful twist to y...</td>\n",
       "      <td>75000000_Household/Office Furniture/Furnishings</td>\n",
       "      <td>75010000_Household/Office Furniture</td>\n",
       "      <td>75010300_Household/Office Tables/Desks</td>\n",
       "    </tr>\n",
       "  </tbody>\n",
       "</table>\n",
       "<p>16119 rows × 5 columns</p>\n",
       "</div>"
      ],
      "text/plain": [
       "                                                    Name  \\\n",
       "0                            Sterling Silver Angel Charm   \n",
       "1            HP Pavilion 23xi 58.40 cm (23�) IPS Monitor   \n",
       "2      East Carolina Pirates Ladies Personalized Bask...   \n",
       "3      Tekonsha 90195 P3 Electric Brake Control, 1-4 ...   \n",
       "4                      RN-XV WiFly Module - Wire Antenna   \n",
       "...                                                  ...   \n",
       "16114                     Oklahoma Sooners Activo Cooler   \n",
       "16115                                            Ageless   \n",
       "16116  Original Retro Brand Duquesne Dukes Womens Gre...   \n",
       "16117    St Louis Cardinals Silver Plated Mens Cufflinks   \n",
       "16118                         Lumisource Spyra Bar Table   \n",
       "\n",
       "                                             Description  \\\n",
       "0               This little angel charm is just heavenly   \n",
       "1      Share photos, videos, and games with everyone ...   \n",
       "2      Feel like a bona fide member of East Carolina ...   \n",
       "3      Receive free shipping on this item. Enter coup...   \n",
       "4      Description: The RN-XV module by Roving Networ...   \n",
       "...                                                  ...   \n",
       "16114  Take your Sooners spirit with you to the next ...   \n",
       "16115  AGELESS is a scientifically advanced and speci...   \n",
       "16116  Stay warm and show your Dukes spirit in this D...   \n",
       "16117  Add a classy touch of Cardinals spirit to your...   \n",
       "16118  The Spyra Bar Table adds a colorful twist to y...   \n",
       "\n",
       "                                          SegmentTitle  \\\n",
       "0                        64000000_Personal Accessories   \n",
       "1                                   65000000_Computing   \n",
       "2                                    67000000_Clothing   \n",
       "3                                  77000000_Automotive   \n",
       "4                         78000000_Electrical Supplies   \n",
       "...                                                ...   \n",
       "16114                     73000000_Kitchen Merchandise   \n",
       "16115                              51000000_Healthcare   \n",
       "16116                                67000000_Clothing   \n",
       "16117                                67000000_Clothing   \n",
       "16118  75000000_Household/Office Furniture/Furnishings   \n",
       "\n",
       "                                           FamilyTitle  \\\n",
       "0                        64010000_Personal Accessories   \n",
       "1                       65010000_Computers/Video Games   \n",
       "2                                    67010000_Clothing   \n",
       "3      77010000_Automotive Accessories and Maintenance   \n",
       "4         78050000_Electronic Communication Components   \n",
       "...                                                ...   \n",
       "16114                     73040000_Kitchen Merchandise   \n",
       "16115                      51120000_Health Enhancement   \n",
       "16116                                67010000_Clothing   \n",
       "16117                                67010000_Clothing   \n",
       "16118              75010000_Household/Office Furniture   \n",
       "\n",
       "                                              ClassTitle  \n",
       "0                                     64010100_Jewellery  \n",
       "1               65010700_Computer/Video Game Peripherals  \n",
       "2                          67010800_Upper Body Wear/Tops  \n",
       "3                 77011200_Automotive Maintenance/Repair  \n",
       "4           78050100_Electronic Communication Components  \n",
       "...                                                  ...  \n",
       "16114                  73040200_Water/Beverage Equipment  \n",
       "16115  51121600_Vitamins/Minerals/Nutritional Supplem...  \n",
       "16116                      67010800_Upper Body Wear/Tops  \n",
       "16117                      67010100_Clothing Accessories  \n",
       "16118             75010300_Household/Office Tables/Desks  \n",
       "\n",
       "[16119 rows x 5 columns]"
      ]
     },
     "execution_count": 4,
     "metadata": {},
     "output_type": "execute_result"
    }
   ],
   "source": [
    "df_mwpd"
   ]
  },
  {
   "cell_type": "code",
   "execution_count": 5,
   "id": "df0607af",
   "metadata": {},
   "outputs": [],
   "source": [
    "df_mwpd[\"SegmentTitle\"] = df_mwpd[\"SegmentTitle\"].apply(lambda x: x.split(\"_\")[1])\n",
    "df_mwpd[\"FamilyTitle\"] = df_mwpd[\"FamilyTitle\"].apply(lambda x: x.split(\"_\")[1])\n",
    "df_mwpd[\"ClassTitle\"] = df_mwpd[\"ClassTitle\"].apply(lambda x: x.split(\"_\")[1])"
   ]
  },
  {
   "cell_type": "code",
   "execution_count": 6,
   "id": "30d477f2",
   "metadata": {},
   "outputs": [],
   "source": [
    "true_classes = df_gpc.ClassTitle.unique().tolist()\n",
    "classes = df_mwpd[\"ClassTitle\"].unique().tolist()\n",
    "\n",
    "mapped_correctly = []\n",
    "mapped_incorrectly = []\n",
    "for cls in classes:\n",
    "    if cls in true_classes:\n",
    "        mapped_correctly.append(cls)\n",
    "    else:\n",
    "        mapped_incorrectly.append(cls)"
   ]
  },
  {
   "cell_type": "code",
   "execution_count": 7,
   "id": "f852d971",
   "metadata": {},
   "outputs": [
    {
     "data": {
      "text/plain": [
       "231"
      ]
     },
     "execution_count": 7,
     "metadata": {},
     "output_type": "execute_result"
    }
   ],
   "source": [
    "len(mapped_correctly)"
   ]
  },
  {
   "cell_type": "code",
   "execution_count": 8,
   "id": "63309448",
   "metadata": {},
   "outputs": [
    {
     "data": {
      "text/plain": [
       "52"
      ]
     },
     "execution_count": 8,
     "metadata": {},
     "output_type": "execute_result"
    }
   ],
   "source": [
    "len(mapped_incorrectly)"
   ]
  },
  {
   "cell_type": "markdown",
   "id": "dcc6d8d2",
   "metadata": {},
   "source": [
    "## Mapping\n",
    "- Lawn/Garden Pools/Ponds/Water Features and Ornaments -> Garden Pools/Ponds/Water Features and Ornaments\n",
    "- Watercraft Sports Equipment (Non Powered) -> Watercraft Sports Equipment\n",
    "- Sportswear -> Activewear\n",
    "- Baby Care (Can't find in gpc) -> Baby Diapers/Accessories\n",
    "- Automotive Exterior Accessories � Coverings/Protection -> Automotive Exterior Accessories - Coverings/Protection\n",
    "- Vegetables � Prepared/Processed -> Vegetables - Prepared/Processed\n",
    "- Tableware � Serving/Eating/Drinking Equipment -> Dinnerware\n",
    "- Tobacco Products/Smoking Accessories -> Tobacco/Cannabis/Herbal Products/Smoking Accessories Variety Packs\n",
    "- Flooring -> Wall/Ceiling/Flooring Coverings\n",
    "- Power Tools � Hand-held Portable -> Drills\n",
    "- Alcoholic Beverages -> Alcoholic Beverages (Includes De-Alcoholised Variants)\n",
    "- Insect/Pest/Allergen Control -> Pest/Plant Control Products\n",
    "- Motorcycles -> Motorcycles/ All Terrain Vehicles/ Utility Task Vehicles\n",
    "- Needlework/Toy Making Craft Supplies -> Arts/Crafts/Needlework Supplies\n",
    "- Electric Lamps/Light Bulbs/Lighting -> Lamps/Light Bulbs/Lighting\n",
    "- Lawn/Garden Equipment -> Lawn/Garden Equipment and Tools\n",
    "- Protective Personal Aids � DIY -> Protective Wear\n",
    "- Toy Vehicles � Non-ride -> Toy Vehicles - Non-ride\n",
    "- Plumbing/Heating Ventilation/Air Conditioning Variety Packs -> Plumbing/Heating/Ventilation/Air Conditioning Variety Packs\n",
    "- Fruit � Prepared/Processed -> Fruit - Prepared/Processed\n",
    "- Power Tools � Lifting/Handling Equipment -> Carrying/Lifting/Climbing/Handling Equipment\n",
    "- Cosmetic Products -> Cosmetic/MakeUp Products\n",
    "- Outdoor Games/Play Structures -> Indoor/Outdoor Games/Play Structures\n",
    "- Arts/Crafts Variety Packs -> Arts/Crafts/Needlework Supplies\n",
    "- Household/Office Fabric/Textile Furnishings -> Household/Bedding/Office Furnishings\n",
    "- Candle/Soap Craft Supplies -> Arts/Crafts/Needlework Supplies\n",
    "- Knives � Non Powered -> Food Preparation Equipment\n",
    "- Scooter/Skateboard Sports Equipment -> Scooter/Skate Sports Equipment\n",
    "- Toys � Ride-on -> Toys - Ride-on\n",
    "- Seeds/Spores (Its family is Seeds/Spores) -> Seeds\n",
    "- Bedding -> Household/Bedding/Office Furnishings\n",
    "- Baby Hygiene/Grooming -> Baby Diapers/Accessories\n",
    "- Baby Furniture/Transportation/Safety -> Household Baby Seating\n",
    "- Lawn/Garden Animal Repellents/Deterrents -> Pest/Plant Control Products\n",
    "- Lawn/Garden Lighting -> Garden Pools/Ponds/Water Features and Ornaments\n",
    "- Automotive Interior Accessories � Interior Flooring -> Automotive Interior Accessories - Interior Flooring\n",
    "- Water/Gas Supply -> Water/Gas Supply/Central Heating\n",
    "- Pliers/Pincers/Metal Cutting Tools -> Pliers/Pincers/Grabbers/Cutting Tools\n",
    "- Fuel Pumps -> Fluids/FUEL Storage/Transfer\n",
    "- Baby Feeding/Hygiene Variety Packs -> BABY/Infant - FOODs/Beverages\n",
    "- Demolition/Removal -> Demolition/Removal Tools\n",
    "- Wall/Ceiling Coverings -> Wall/Ceiling/Flooring Coverings\n",
    "- Wood Burning/Engraving Craft Supplies -> Arts/Crafts/Needlework Tools\n",
    "- Power Tools � Stationary/Bench-top -> Oscillating/Rotary Tools\n",
    "- Lawn/Garden Plants -> Lawn/Garden Outdoor Structures (Not sure)\n",
    "- Automotive Interior Accessories � Interior Dash -> Automotive Interior Accessories - Interior Dash\n",
    "- Meat/Poultry � Prepared/Processed -> Meat/Poultry/Other Animals - Prepared/Processed\n",
    "- Non Alcoholic Beverages � Ready to Drink -> Non Alcoholic Beverages - Ready to Drink\n",
    "- Bromelia � Live Plants -> Bromelia - Live Plants\n",
    "- Tools/Equipment � Hand Variety Packs -> Tools/Equipment Variety Packs\n",
    "- Saws � Non Powered -> Saws\n",
    "- Spinning/Weaving Craft Supplies -> Arts/Crafts/Needlework Tools"
   ]
  },
  {
   "cell_type": "code",
   "execution_count": 9,
   "id": "0ef7bb6e",
   "metadata": {},
   "outputs": [],
   "source": [
    "mapping = {\n",
    "    \"Lawn/Garden Pools/Ponds/Water Features and Ornaments\": \"Garden Pools/Ponds/Water Features and Ornaments\",\n",
    "    \"Watercraft Sports Equipment (Non Powered)\": \"Watercraft Sports Equipment\",\n",
    "    \"Sportswear\": \"Activewear\",\n",
    "    \"Baby Care\": \"Baby Diapers/Accessories\",\n",
    "    \"Automotive Exterior Accessories � Coverings/Protection\": \"Automotive Exterior Accessories - Coverings/Protection\",\n",
    "    \"Vegetables � Prepared/Processed\": \"Vegetables - Prepared/Processed\",\n",
    "    \"Tableware � Serving/Eating/Drinking Equipment\": \"Dinnerware (Non Disposable)\",\n",
    "    \"Tobacco Products/Smoking Accessories\": \"Tobacco/Cannabis/Herbal Products/Smoking Accessories Variety Packs\",\n",
    "    \"Flooring\": \"Wall/Ceiling/Flooring Coverings\",\n",
    "    \"Power Tools � Hand-held Portable\": \"Drills\",\n",
    "    \"Alcoholic Beverages\": \"Alcoholic Beverages (Includes De-Alcoholised Variants)\",\n",
    "    \"Insect/Pest/Allergen Control\": \"Pest/Plant Control Products\",\n",
    "    \"Motorcycles\": \"Motorcycles/ All Terrain Vehicles/ Utility Task Vehicles\",\n",
    "    \"Needlework/Toy Making Craft Supplies\": \"Arts/Crafts/Needlework Supplies\",\n",
    "    \"Electric Lamps/Light Bulbs/Lighting\": \"Lamps/Light Bulbs/Lighting\",\n",
    "    \"Lawn/Garden Equipment\": \"Lawn/Garden Equipment and Tools\",\n",
    "    \"Protective Personal Aids � DIY\": \"Protective Wear\",\n",
    "    \"Toy Vehicles � Non-ride\": \"Toy Vehicles - Non-ride\",\n",
    "    \"Plumbing/Heating Ventilation/Air Conditioning Variety Packs\": \"Plumbing/Heating/Ventilation/Air Conditioning Variety Packs\",\n",
    "    \"Fruit � Prepared/Processed\": \"Fruit - Prepared/Processed\",\n",
    "    \"Power Tools � Lifting/Handling Equipment\": \"Carrying/Lifting/Climbing/Handling Equipment\",\n",
    "    \"Cosmetic Products\": \"Cosmetic/MakeUp Products\",\n",
    "    \"Outdoor Games/Play Structures\": \"Indoor/Outdoor Games/Play Structures\",\n",
    "    \"Arts/Crafts Variety Packs\": \"Arts/Crafts/Needlework Supplies\",\n",
    "    \"Household/Office Fabric/Textile Furnishings\": \"Household/Bedding/Office Furnishings\",\n",
    "    \"Candle/Soap Craft Supplies\": \"Arts/Crafts/Needlework Supplies\",\n",
    "    \"Knives � Non Powered\": \"Food Preparation Equipment\",\n",
    "    \"Scooter/Skateboard Sports Equipment\": \"Scooter/Skate Sports Equipment\",\n",
    "    \"Toys � Ride-on\": \"Toys - Ride-on\",\n",
    "    \"Seeds/Spores\": \"Seeds\",\n",
    "    \"Bedding\": \"Household/Bedding/Office Furnishings\",\n",
    "    \"Baby Hygiene/Grooming\": \"Baby Diapers/Accessories\",\n",
    "    \"Baby Furniture/Transportation/Safety\": \"Household Baby Seating\",\n",
    "    \"Lawn/Garden Animal Repellents/Deterrents\": \"Pest/Plant Control Products\",\n",
    "    \"Lawn/Garden Lighting\": \"Garden Pools/Ponds/Water Features and Ornaments\",\n",
    "    \"Automotive Interior Accessories � Interior Flooring\": \"Automotive Interior Accessories - Interior Flooring\",\n",
    "    \"Water/Gas Supply\": \"Water/Gas Supply/Central Heating\",\n",
    "    \"Pliers/Pincers/Metal Cutting Tools\": \"Pliers/Pincers/Grabbers/Cutting Tools\",\n",
    "    \"Fuel Pumps\": \"Fluids/Fuel Storage\",\n",
    "    \"Baby Feeding/Hygiene Variety Packs\": \"Baby/Infant - Foods/Beverages\",\n",
    "    \"Demolition/Removal\": \"Demolition/Removal Tools\",\n",
    "    \"Wall/Ceiling Coverings\": \"Wall/Ceiling/Flooring Coverings\",\n",
    "    \"Wood Burning/Engraving Craft Supplies\": \"Arts/Crafts/Needlework Tools\",\n",
    "    \"Power Tools � Stationary/Bench-top\": \"Oscillating/Rotary Tools\",\n",
    "    \"Lawn/Garden Plants\": \"Lawn/Garden Outdoor Structures\",\n",
    "    \"Automotive Interior Accessories � Interior Dash\": \"Automotive Interior Accessories - Interior Dash\",\n",
    "    \"Meat/Poultry � Prepared/Processed\": \"Meat/Poultry/Other Animals - Prepared/Processed\",\n",
    "    \"Non Alcoholic Beverages � Ready to Drink\": \"Non Alcoholic Beverages - Ready to Drink\",\n",
    "    \"Bromelia � Live Plants\": \"Bromelia - Live Plants\",\n",
    "    \"Tools/Equipment � Hand Variety Packs\": \"Tools/Equipment Variety Packs\",\n",
    "    \"Saws � Non Powered\": \"Saws\",\n",
    "    \"Spinning/Weaving Craft Supplies\": \"Arts/Crafts/Needlework Tools\",\n",
    "    \"Dinnerware\": \"Dinnerware (Non Disposable)\",\n",
    "    \"Baby Care Variety Packs\" : \"Baby Diapers/Accessories\"\n",
    "\n",
    "}\n"
   ]
  },
  {
   "cell_type": "code",
   "execution_count": 10,
   "id": "9503dda9",
   "metadata": {},
   "outputs": [],
   "source": [
    "df_mwpd[\"ClassTitle\"] = df_mwpd[\"ClassTitle\"].replace(mapping)"
   ]
  },
  {
   "cell_type": "code",
   "execution_count": 11,
   "id": "555373cd",
   "metadata": {},
   "outputs": [],
   "source": [
    "true_classes = df_gpc[\"ClassTitle\"].unique().tolist()\n",
    "classes = df_mwpd[\"ClassTitle\"].unique().tolist()\n",
    "\n",
    "mapped_correctly = []\n",
    "mapped_incorrectly = []\n",
    "for cls in classes:\n",
    "    if cls in true_classes:\n",
    "        mapped_correctly.append(cls)\n",
    "    else:\n",
    "        mapped_incorrectly.append(cls)"
   ]
  },
  {
   "cell_type": "code",
   "execution_count": 12,
   "id": "a4a4669b",
   "metadata": {},
   "outputs": [
    {
     "data": {
      "text/plain": [
       "[]"
      ]
     },
     "execution_count": 12,
     "metadata": {},
     "output_type": "execute_result"
    }
   ],
   "source": [
    "mapped_incorrectly"
   ]
  },
  {
   "cell_type": "code",
   "execution_count": 13,
   "id": "99ca4b0f",
   "metadata": {},
   "outputs": [],
   "source": [
    "df_mwpd[\"SegmentTitle\"] = df_mwpd[\"ClassTitle\"].apply(lambda x: df_gpc[df_gpc[\"ClassTitle\"]==x][\"SegmentTitle\"].tolist()[0])\n",
    "df_mwpd[\"FamilyTitle\"] = df_mwpd[\"ClassTitle\"].apply(lambda x: df_gpc[df_gpc[\"ClassTitle\"]==x][\"FamilyTitle\"].tolist()[0])"
   ]
  },
  {
   "cell_type": "code",
   "execution_count": 14,
   "id": "fdcba430",
   "metadata": {},
   "outputs": [],
   "source": [
    "df_mwpd.rename(columns={\n",
    "    \"Name\": \"product_name\",\n",
    "    \"SegmentTitle\": \"segment\",\n",
    "    \"FamilyTitle\": \"family\",\n",
    "    \"ClassTitle\": \"class\"\n",
    "}, inplace=True)\n",
    "df_mwpd.drop(columns=[\"Description\"], inplace=True)"
   ]
  },
  {
   "cell_type": "code",
   "execution_count": 16,
   "id": "05fa0d57",
   "metadata": {},
   "outputs": [
    {
     "data": {
      "text/plain": [
       "[]"
      ]
     },
     "execution_count": 16,
     "metadata": {},
     "output_type": "execute_result"
    }
   ],
   "source": [
    "segments = df_mwpd[\"segment\"].unique().tolist()\n",
    "true_segments = df_gpc[\"SegmentTitle\"].unique().tolist()\n",
    "get_labels(segments, true_segments)[\"incorrect_labels\"]"
   ]
  },
  {
   "cell_type": "code",
   "execution_count": 17,
   "id": "5807eea2",
   "metadata": {},
   "outputs": [
    {
     "data": {
      "text/plain": [
       "[]"
      ]
     },
     "execution_count": 17,
     "metadata": {},
     "output_type": "execute_result"
    }
   ],
   "source": [
    "families = df_mwpd[\"family\"].unique().tolist()\n",
    "true_families = df_gpc[\"FamilyTitle\"].unique().tolist()\n",
    "get_labels(families, true_families)[\"incorrect_labels\"]"
   ]
  },
  {
   "cell_type": "code",
   "execution_count": 18,
   "id": "4b907b28",
   "metadata": {},
   "outputs": [
    {
     "data": {
      "text/plain": [
       "[]"
      ]
     },
     "execution_count": 18,
     "metadata": {},
     "output_type": "execute_result"
    }
   ],
   "source": [
    "classes = df_mwpd[\"class\"].unique().tolist()\n",
    "true_classes = df_gpc[\"ClassTitle\"].unique().tolist()\n",
    "get_labels(classes, true_classes)[\"incorrect_labels\"]"
   ]
  },
  {
   "cell_type": "code",
   "execution_count": 20,
   "id": "c6800a50",
   "metadata": {},
   "outputs": [
    {
     "data": {
      "text/html": [
       "<div>\n",
       "<style scoped>\n",
       "    .dataframe tbody tr th:only-of-type {\n",
       "        vertical-align: middle;\n",
       "    }\n",
       "\n",
       "    .dataframe tbody tr th {\n",
       "        vertical-align: top;\n",
       "    }\n",
       "\n",
       "    .dataframe thead th {\n",
       "        text-align: right;\n",
       "    }\n",
       "</style>\n",
       "<table border=\"1\" class=\"dataframe\">\n",
       "  <thead>\n",
       "    <tr style=\"text-align: right;\">\n",
       "      <th></th>\n",
       "      <th>product_name</th>\n",
       "      <th>segment</th>\n",
       "      <th>family</th>\n",
       "      <th>class</th>\n",
       "    </tr>\n",
       "  </thead>\n",
       "  <tbody>\n",
       "    <tr>\n",
       "      <th>0</th>\n",
       "      <td>Sterling Silver Angel Charm</td>\n",
       "      <td>Personal Accessories</td>\n",
       "      <td>Personal Accessories</td>\n",
       "      <td>Jewellery</td>\n",
       "    </tr>\n",
       "    <tr>\n",
       "      <th>1</th>\n",
       "      <td>HP Pavilion 23xi 58.40 cm (23�) IPS Monitor</td>\n",
       "      <td>Computing</td>\n",
       "      <td>Computers/Video Games</td>\n",
       "      <td>Computer/Video Game Peripherals</td>\n",
       "    </tr>\n",
       "    <tr>\n",
       "      <th>2</th>\n",
       "      <td>East Carolina Pirates Ladies Personalized Bask...</td>\n",
       "      <td>Clothing</td>\n",
       "      <td>Clothing</td>\n",
       "      <td>Upper Body Wear/Tops</td>\n",
       "    </tr>\n",
       "    <tr>\n",
       "      <th>3</th>\n",
       "      <td>Tekonsha 90195 P3 Electric Brake Control, 1-4 ...</td>\n",
       "      <td>Vehicle</td>\n",
       "      <td>Automotive Accessories and Maintenance</td>\n",
       "      <td>Automotive Maintenance/Repair</td>\n",
       "    </tr>\n",
       "    <tr>\n",
       "      <th>4</th>\n",
       "      <td>RN-XV WiFly Module - Wire Antenna</td>\n",
       "      <td>Electrical Supplies</td>\n",
       "      <td>Electronic Communication Components</td>\n",
       "      <td>Electronic Communication Components</td>\n",
       "    </tr>\n",
       "    <tr>\n",
       "      <th>...</th>\n",
       "      <td>...</td>\n",
       "      <td>...</td>\n",
       "      <td>...</td>\n",
       "      <td>...</td>\n",
       "    </tr>\n",
       "    <tr>\n",
       "      <th>16114</th>\n",
       "      <td>Oklahoma Sooners Activo Cooler</td>\n",
       "      <td>Kitchenware and Tableware</td>\n",
       "      <td>Kitchenware</td>\n",
       "      <td>Water/Beverage Equipment</td>\n",
       "    </tr>\n",
       "    <tr>\n",
       "      <th>16115</th>\n",
       "      <td>Ageless</td>\n",
       "      <td>Healthcare</td>\n",
       "      <td>Health Enhancement</td>\n",
       "      <td>Vitamins/Minerals/Nutritional Supplements</td>\n",
       "    </tr>\n",
       "    <tr>\n",
       "      <th>16116</th>\n",
       "      <td>Original Retro Brand Duquesne Dukes Womens Gre...</td>\n",
       "      <td>Clothing</td>\n",
       "      <td>Clothing</td>\n",
       "      <td>Upper Body Wear/Tops</td>\n",
       "    </tr>\n",
       "    <tr>\n",
       "      <th>16117</th>\n",
       "      <td>St Louis Cardinals Silver Plated Mens Cufflinks</td>\n",
       "      <td>Clothing</td>\n",
       "      <td>Clothing</td>\n",
       "      <td>Clothing Accessories</td>\n",
       "    </tr>\n",
       "    <tr>\n",
       "      <th>16118</th>\n",
       "      <td>Lumisource Spyra Bar Table</td>\n",
       "      <td>Household/Office Furniture/Furnishings</td>\n",
       "      <td>Household/Office Furniture</td>\n",
       "      <td>Household/Office Tables/Desks</td>\n",
       "    </tr>\n",
       "  </tbody>\n",
       "</table>\n",
       "<p>16119 rows × 4 columns</p>\n",
       "</div>"
      ],
      "text/plain": [
       "                                            product_name  \\\n",
       "0                            Sterling Silver Angel Charm   \n",
       "1            HP Pavilion 23xi 58.40 cm (23�) IPS Monitor   \n",
       "2      East Carolina Pirates Ladies Personalized Bask...   \n",
       "3      Tekonsha 90195 P3 Electric Brake Control, 1-4 ...   \n",
       "4                      RN-XV WiFly Module - Wire Antenna   \n",
       "...                                                  ...   \n",
       "16114                     Oklahoma Sooners Activo Cooler   \n",
       "16115                                            Ageless   \n",
       "16116  Original Retro Brand Duquesne Dukes Womens Gre...   \n",
       "16117    St Louis Cardinals Silver Plated Mens Cufflinks   \n",
       "16118                         Lumisource Spyra Bar Table   \n",
       "\n",
       "                                      segment  \\\n",
       "0                        Personal Accessories   \n",
       "1                                   Computing   \n",
       "2                                    Clothing   \n",
       "3                                     Vehicle   \n",
       "4                         Electrical Supplies   \n",
       "...                                       ...   \n",
       "16114               Kitchenware and Tableware   \n",
       "16115                              Healthcare   \n",
       "16116                                Clothing   \n",
       "16117                                Clothing   \n",
       "16118  Household/Office Furniture/Furnishings   \n",
       "\n",
       "                                       family  \\\n",
       "0                        Personal Accessories   \n",
       "1                       Computers/Video Games   \n",
       "2                                    Clothing   \n",
       "3      Automotive Accessories and Maintenance   \n",
       "4         Electronic Communication Components   \n",
       "...                                       ...   \n",
       "16114                             Kitchenware   \n",
       "16115                      Health Enhancement   \n",
       "16116                                Clothing   \n",
       "16117                                Clothing   \n",
       "16118              Household/Office Furniture   \n",
       "\n",
       "                                           class  \n",
       "0                                      Jewellery  \n",
       "1                Computer/Video Game Peripherals  \n",
       "2                           Upper Body Wear/Tops  \n",
       "3                  Automotive Maintenance/Repair  \n",
       "4            Electronic Communication Components  \n",
       "...                                          ...  \n",
       "16114                   Water/Beverage Equipment  \n",
       "16115  Vitamins/Minerals/Nutritional Supplements  \n",
       "16116                       Upper Body Wear/Tops  \n",
       "16117                       Clothing Accessories  \n",
       "16118              Household/Office Tables/Desks  \n",
       "\n",
       "[16119 rows x 4 columns]"
      ]
     },
     "execution_count": 20,
     "metadata": {},
     "output_type": "execute_result"
    }
   ],
   "source": [
    "df_mwpd"
   ]
  },
  {
   "cell_type": "code",
   "execution_count": 21,
   "id": "853a883c",
   "metadata": {},
   "outputs": [],
   "source": [
    "df_mwpd.to_csv(MWPD_FULL_DATASET_PATH, index=False, encoding=\"utf-8-sig\")"
   ]
  },
  {
   "cell_type": "code",
   "execution_count": null,
   "id": "1b0e5f53",
   "metadata": {},
   "outputs": [],
   "source": []
  }
 ],
 "metadata": {
  "kernelspec": {
   "display_name": "prodify-v2",
   "language": "python",
   "name": "python3"
  },
  "language_info": {
   "codemirror_mode": {
    "name": "ipython",
    "version": 3
   },
   "file_extension": ".py",
   "mimetype": "text/x-python",
   "name": "python",
   "nbconvert_exporter": "python",
   "pygments_lexer": "ipython3",
   "version": "3.12.11"
  }
 },
 "nbformat": 4,
 "nbformat_minor": 5
}
