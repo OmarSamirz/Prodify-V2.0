{
 "cells": [
  {
   "cell_type": "code",
   "execution_count": null,
   "id": "6fdc7391",
   "metadata": {},
   "outputs": [],
   "source": [
    "import pandas as pd\n",
    "from sklearn.preprocessing import LabelEncoder\n",
    "from safetensors.torch import save_file, load_file\n",
    "\n",
    "from utils import (\n",
    "    load_gpc_hierarchical_classifier, \n",
    "    gpc_hierarchical_classifier_train,\n",
    "    gpc_hierarchical_classifier_inference, \n",
    "    load_embedding_model\n",
    ")\n",
    "from constants import (\n",
    "    GPC_HIERARCHICAL_CLASSIFIER_CONFIG, \n",
    "    FULL_TRAIN_DATASET_PATH, \n",
    "    FULL_TEST_DATASET_PATH, \n",
    "    E5_LARGE_INSTRUCT_CONFIG_PATH\n",
    ")"
   ]
  },
  {
   "cell_type": "code",
   "execution_count": 2,
   "id": "255d40dc",
   "metadata": {},
   "outputs": [],
   "source": [
    "df_train = pd.read_csv(FULL_TRAIN_DATASET_PATH)\n",
    "df_test = pd.read_csv(FULL_TEST_DATASET_PATH)\n",
    "df_merged = pd.concat([df_train, df_test])"
   ]
  },
  {
   "cell_type": "code",
   "execution_count": 3,
   "id": "835b6bed",
   "metadata": {},
   "outputs": [],
   "source": [
    "seg_encoder = LabelEncoder()\n",
    "fam_encoder = LabelEncoder()\n",
    "cls_encoder = LabelEncoder()\n",
    "\n",
    "df_merged[\"encoded_segment\"] = seg_encoder.fit_transform(df_merged[\"segment\"].tolist())\n",
    "df_merged[\"encoded_family\"] = fam_encoder.fit_transform(df_merged[\"family\"].tolist())\n",
    "df_merged[\"encoded_class\"] = cls_encoder.fit_transform(df_merged[\"class\"].tolist())"
   ]
  },
  {
   "cell_type": "code",
   "execution_count": 11,
   "id": "263319c0",
   "metadata": {},
   "outputs": [],
   "source": [
    "segment_to_families = (\n",
    "    df_merged.groupby(\"encoded_segment\")[\"encoded_family\"]\n",
    "      .unique()\n",
    "      .apply(lambda arr: [int(x) for x in arr])\n",
    "      .to_dict()\n",
    ")\n",
    "\n",
    "family_to_classes = (\n",
    "    df_merged.groupby(\"encoded_family\")[\"encoded_class\"]\n",
    "      .unique()\n",
    "      .apply(lambda arr: [int(x) for x in arr])\n",
    "      .to_dict()\n",
    ")\n",
    "segment_to_families = {\n",
    "    int(k): [int(x) for x in v]\n",
    "    for k, v in df_merged.groupby(\"encoded_segment\")[\"encoded_family\"].unique().items()\n",
    "}\n",
    "\n",
    "family_to_classes = {\n",
    "    int(k): [int(x) for x in v]\n",
    "    for k, v in df_merged.groupby(\"encoded_family\")[\"encoded_class\"].unique().items()\n",
    "}\n",
    "\n"
   ]
  },
  {
   "cell_type": "code",
   "execution_count": 13,
   "id": "fa821fee",
   "metadata": {},
   "outputs": [],
   "source": [
    "import json\n",
    "\n",
    "with open(\"segment_to_families.json\", \"w\") as f:\n",
    "    json.dump(segment_to_families, f, indent=4)\n",
    "\n",
    "import json\n",
    "\n",
    "with open(\"family_to_classes.json\", \"w\") as f:\n",
    "    json.dump(family_to_classes, f, indent=4)"
   ]
  },
  {
   "cell_type": "code",
   "execution_count": 6,
   "id": "54c8d831",
   "metadata": {},
   "outputs": [],
   "source": [
    "df_train_len = len(df_train)\n",
    "\n",
    "df_train = df_merged.iloc[:df_train_len, :]\n",
    "df_test = df_merged.iloc[df_train_len:, :]"
   ]
  },
  {
   "cell_type": "code",
   "execution_count": 7,
   "id": "d53fa9ae",
   "metadata": {},
   "outputs": [],
   "source": [
    "X_train, y_train = df_train[\"product_name\"].astype(str).tolist(), df_train[[\"encoded_segment\", \"encoded_family\", \"encoded_class\"]].values.tolist()\n",
    "X_test, y_test = df_test[\"product_name\"].astype(str).tolist(), df_test[[\"encoded_segment\", \"encoded_family\", \"encoded_class\"]].values.tolist()"
   ]
  },
  {
   "cell_type": "code",
   "execution_count": 8,
   "id": "0bec2e3d",
   "metadata": {},
   "outputs": [],
   "source": [
    "# embed_model = load_embedding_model(E5_LARGE_INSTRUCT_CONFIG_PATH)"
   ]
  },
  {
   "cell_type": "code",
   "execution_count": 9,
   "id": "b8a4be7c",
   "metadata": {},
   "outputs": [],
   "source": [
    "X_train = load_file(\"train_embeddings.safetensors\")[\"input\"]\n",
    "X_test = load_file(\"test_embeddings.safetensors\")[\"input\"]"
   ]
  },
  {
   "cell_type": "code",
   "execution_count": 10,
   "id": "eb273e35",
   "metadata": {},
   "outputs": [],
   "source": [
    "gpc_model = load_gpc_hierarchical_classifier(GPC_HIERARCHICAL_CLASSIFIER_CONFIG).to(\"cuda\")"
   ]
  },
  {
   "cell_type": "code",
   "execution_count": null,
   "id": "bc925da0",
   "metadata": {},
   "outputs": [],
   "source": [
    "model, best_state = gpc_hierarchical_classifier_train(\n",
    "    model=gpc_model,\n",
    "    x_train=X_train,\n",
    "    y_train=y_train,\n",
    "    x_test=X_test,\n",
    "    y_test=y_test,\n",
    "    epochs=500,\n",
    "    lr=0.01\n",
    ")"
   ]
  },
  {
   "cell_type": "code",
   "execution_count": 13,
   "id": "b3511c2e",
   "metadata": {},
   "outputs": [
    {
     "data": {
      "text/plain": [
       "500"
      ]
     },
     "execution_count": 13,
     "metadata": {},
     "output_type": "execute_result"
    }
   ],
   "source": [
    "best_state[\"epoch\"]"
   ]
  },
  {
   "cell_type": "code",
   "execution_count": 20,
   "id": "d5268da0",
   "metadata": {},
   "outputs": [],
   "source": [
    "X_test = X_test.to(model.device)"
   ]
  },
  {
   "cell_type": "code",
   "execution_count": 21,
   "id": "8d280309",
   "metadata": {},
   "outputs": [],
   "source": [
    "y_pred = gpc_hierarchical_classifier_inference(model, X_test)"
   ]
  },
  {
   "cell_type": "code",
   "execution_count": 29,
   "id": "975d1252",
   "metadata": {},
   "outputs": [],
   "source": [
    "df_test[\"pred_segment\"] = y_pred[0].tolist()\n",
    "df_test[\"pred_family\"] = y_pred[1].tolist()\n",
    "df_test[\"pred_class\"] = y_pred[2].tolist()"
   ]
  },
  {
   "cell_type": "code",
   "execution_count": null,
   "id": "818587ee",
   "metadata": {},
   "outputs": [],
   "source": []
  }
 ],
 "metadata": {
  "kernelspec": {
   "display_name": "prodify-v2",
   "language": "python",
   "name": "python3"
  },
  "language_info": {
   "codemirror_mode": {
    "name": "ipython",
    "version": 3
   },
   "file_extension": ".py",
   "mimetype": "text/x-python",
   "name": "python",
   "nbconvert_exporter": "python",
   "pygments_lexer": "ipython3",
   "version": "3.12.11"
  }
 },
 "nbformat": 4,
 "nbformat_minor": 5
}
