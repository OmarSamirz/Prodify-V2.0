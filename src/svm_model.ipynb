{
 "cells": [
  {
   "cell_type": "code",
   "execution_count": 1,
   "id": "9501c3ef",
   "metadata": {},
   "outputs": [
    {
     "name": "stdout",
     "output_type": "stream",
     "text": [
      "Log directory cleaned: c:\\internship\\Prodify-V2.0\\src\\logs\n",
      "Logger initialized. All logs will be saved to: c:\\internship\\Prodify-V2.0\\src\\logs\\log.txt\n",
      "[2025-09-14 21:49:04] - logger:_log - INFO - Logger initialized. Logs will be saved to c:\\internship\\Prodify-V2.0\\src\\logs\\log.txt\n"
     ]
    },
    {
     "name": "stdout",
     "output_type": "stream",
     "text": [
      "[2025-09-14 21:51:10] - warnings:_showwarnmsg - WARNING - c:\\Users\\os255022\\AppData\\Local\\anaconda3\\envs\\prodify-v2\\Lib\\site-packages\\sklearn\\svm\\_base.py:1250: ConvergenceWarning: Liblinear failed to converge, increase the number of iterations.\n",
      "  warnings.warn(\n",
      "\n"
     ]
    }
   ],
   "source": [
    "import pandas as pd\n",
    "from sklearn.metrics import accuracy_score\n",
    "from sklearn.preprocessing import LabelEncoder\n",
    "\n",
    "import re\n",
    "\n",
    "from utils import load_tfidf_classifier_model\n",
    "from constants import (\n",
    "    FULL_TRAIN_DATASET_PATH, \n",
    "    FULL_TEST_DATASET_PATH, \n",
    "    FULL_OUTPUT_DATASET_PATH,\n",
    "    TFIDF_CLASSIFIER_CONFIG_PATH\n",
    ")"
   ]
  },
  {
   "cell_type": "code",
   "execution_count": 2,
   "id": "e0739e92",
   "metadata": {},
   "outputs": [],
   "source": [
    "def clean(text: str) -> str:\n",
    "    text = text.lower()\n",
    "    text = re.sub(r\"[^\\w\\s]\", \" \", text)\n",
    "\n",
    "    return \" \".join(text.strip().split())"
   ]
  },
  {
   "cell_type": "code",
   "execution_count": null,
   "id": "961367fc",
   "metadata": {},
   "outputs": [],
   "source": [
    "df_train = pd.read_csv(FULL_TRAIN_DATASET_PATH)\n",
    "\n",
    "df_train[\"product_name\"] = df_train[\"product_name\"].astype(str)"
   ]
  },
  {
   "cell_type": "code",
   "execution_count": 4,
   "id": "11f3c479",
   "metadata": {},
   "outputs": [],
   "source": [
    "X_train = df_train[\"product_name\"].tolist()\n",
    "y_train = df_train[[\"segment\", \"family\", \"class\"]].values.tolist()"
   ]
  },
  {
   "cell_type": "code",
   "execution_count": 5,
   "id": "da33dba2",
   "metadata": {},
   "outputs": [],
   "source": [
    "model = load_tfidf_classifier_model(TFIDF_CLASSIFIER_CONFIG_PATH)"
   ]
  },
  {
   "cell_type": "code",
   "execution_count": 6,
   "id": "08bb85cc",
   "metadata": {},
   "outputs": [],
   "source": [
    "model.fit(X_train, y_train)"
   ]
  },
  {
   "cell_type": "code",
   "execution_count": 7,
   "id": "0a41062c",
   "metadata": {},
   "outputs": [],
   "source": [
    "df_test = pd.read_csv(FULL_TEST_DATASET_PATH)\n",
    "\n",
    "df_test[\"product_name\"] = df_test[\"product_name\"].astype(str)"
   ]
  },
  {
   "cell_type": "code",
   "execution_count": 10,
   "id": "215a596d",
   "metadata": {},
   "outputs": [],
   "source": [
    "X_test = df_test[\"product_name\"].tolist()\n",
    "segments = df_test[\"segment\"].tolist()\n",
    "families = df_test[\"family\"].tolist()\n",
    "classes = df_test[\"class\"].tolist()"
   ]
  },
  {
   "cell_type": "code",
   "execution_count": 13,
   "id": "7174ab61",
   "metadata": {},
   "outputs": [],
   "source": [
    "y_pred = model.predict(X_test)"
   ]
  },
  {
   "cell_type": "code",
   "execution_count": 15,
   "id": "54580c8c",
   "metadata": {},
   "outputs": [],
   "source": [
    "pred_segments = [pred[0] for pred in y_pred]\n",
    "pred_families = [pred[1] for pred in y_pred]\n",
    "pred_classes = [pred[2] for pred in y_pred]"
   ]
  },
  {
   "cell_type": "code",
   "execution_count": 16,
   "id": "da735d95",
   "metadata": {},
   "outputs": [
    {
     "data": {
      "text/plain": [
       "0.9674284213291305"
      ]
     },
     "execution_count": 16,
     "metadata": {},
     "output_type": "execute_result"
    }
   ],
   "source": [
    "accuracy_score(segments, pred_segments)"
   ]
  },
  {
   "cell_type": "code",
   "execution_count": 17,
   "id": "74e119b0",
   "metadata": {},
   "outputs": [
    {
     "data": {
      "text/plain": [
       "0.9512739690044655"
      ]
     },
     "execution_count": 17,
     "metadata": {},
     "output_type": "execute_result"
    }
   ],
   "source": [
    "accuracy_score(families, pred_families)"
   ]
  },
  {
   "cell_type": "code",
   "execution_count": 18,
   "id": "63e7c6c2",
   "metadata": {},
   "outputs": [
    {
     "data": {
      "text/plain": [
       "0.9359075387444181"
      ]
     },
     "execution_count": 18,
     "metadata": {},
     "output_type": "execute_result"
    }
   ],
   "source": [
    "accuracy_score(classes, pred_classes)"
   ]
  },
  {
   "cell_type": "code",
   "execution_count": null,
   "id": "5d360c2a",
   "metadata": {},
   "outputs": [],
   "source": []
  }
 ],
 "metadata": {
  "kernelspec": {
   "display_name": "prodify-v2",
   "language": "python",
   "name": "python3"
  },
  "language_info": {
   "codemirror_mode": {
    "name": "ipython",
    "version": 3
   },
   "file_extension": ".py",
   "mimetype": "text/x-python",
   "name": "python",
   "nbconvert_exporter": "python",
   "pygments_lexer": "ipython3",
   "version": "3.12.11"
  }
 },
 "nbformat": 4,
 "nbformat_minor": 5
}
